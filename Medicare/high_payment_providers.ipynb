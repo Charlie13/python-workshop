{
 "metadata": {
  "name": "",
  "signature": "sha256:ccaf6fd74153089b457bee851df15928523bc57bd002e81dbbb5c7b3ffb6920a"
 },
 "nbformat": 3,
 "nbformat_minor": 0,
 "worksheets": [
  {
   "cells": [
    {
     "cell_type": "markdown",
     "metadata": {},
     "source": [
      "US Medicare Payment Data - identifying providers with high payment totals\n",
      "==========================================================================\n",
      "\n",
      "The US government recently released a data set containing all payments (partially aggregated) made by the Medicare program in 2012.  For each health care provider, the billings are grouped into service types, and within each such group, the total payment and standard deviation of payments are provided.\n",
      "\n",
      "The data are available [here](http://www.cms.gov/Research-Statistics-Data-and-Systems/Statistics-Trends-and-Reports/Medicare-Provider-Charge-Data/Physician-and-Other-Supplier.html)\n",
      "\n",
      "The official documentation for the data is [here](http://www.cms.gov/Research-Statistics-Data-and-Systems/Statistics-Trends-and-Reports/Medicare-Provider-Charge-Data/Downloads/Medicare-Physician-and-Other-Supplier-PUF-Methodology.pdf).\n",
      "\n",
      "One use of these data is to identify providers who receive very high payments from the Medicare program.  In some cases this may reflect fraud or waste.  [Here](http://www.miamiherald.com/2014/04/09/4048743/south-florida-opthalmologist-emerges.html) is a link to a media article about such a situation.\n",
      "\n",
      "The dataset is too large to load into SageMathCloud (SMC), so we wrote a script to split the data by state.  We ran this script off-line and uploaded a few of the state-level files into SMC. \n",
      "\n",
      "If you are curious to see how some related analyses of these data can be done in R, check out [this](http://vikparuchuri.com/blog/exploring-us-healthcare-data) blog post."
     ]
    },
    {
     "cell_type": "markdown",
     "metadata": {},
     "source": [
      "First we import some libraries that we will be using."
     ]
    },
    {
     "cell_type": "code",
     "collapsed": false,
     "input": [
      "import pandas as pd\n",
      "import numpy as np"
     ],
     "language": "python",
     "metadata": {},
     "outputs": [],
     "prompt_number": 2
    },
    {
     "cell_type": "markdown",
     "metadata": {},
     "source": [
      "Next we load in the data from one state.  The state-level data is small enough that it can be loaded entirely into memory."
     ]
    },
    {
     "cell_type": "code",
     "collapsed": false,
     "input": [
      "fname = \"FL-subset.csv.gz\"\n",
      "data = pd.read_csv(fname, compression=\"gzip\")"
     ],
     "language": "python",
     "metadata": {},
     "outputs": [
      {
       "html": [
        "<div style=\"max-height:1000px;max-width:1500px;overflow:auto;\">\n",
        "<table border=\"1\" class=\"dataframe\">\n",
        "  <thead>\n",
        "    <tr style=\"text-align: right;\">\n",
        "      <th></th>\n",
        "      <th>npi</th>\n",
        "      <th>nppes_provider_last_org_name</th>\n",
        "      <th>nppes_provider_first_name</th>\n",
        "      <th>nppes_provider_mi</th>\n",
        "      <th>nppes_credentials</th>\n",
        "      <th>nppes_provider_gender</th>\n",
        "      <th>nppes_entity_code</th>\n",
        "      <th>nppes_provider_street1</th>\n",
        "      <th>nppes_provider_street2</th>\n",
        "      <th>nppes_provider_city</th>\n",
        "      <th>...</th>\n",
        "      <th>hcpcs_description</th>\n",
        "      <th>line_srvc_cnt</th>\n",
        "      <th>bene_unique_cnt</th>\n",
        "      <th>bene_day_srvc_cnt</th>\n",
        "      <th>average_Medicare_allowed_amt</th>\n",
        "      <th>stdev_Medicare_allowed_amt</th>\n",
        "      <th>average_submitted_chrg_amt</th>\n",
        "      <th>stdev_submitted_chrg_amt</th>\n",
        "      <th>average_Medicare_payment_amt</th>\n",
        "      <th>stdev_Medicare_payment_amt</th>\n",
        "    </tr>\n",
        "  </thead>\n",
        "  <tbody>\n",
        "    <tr>\n",
        "      <th>0</th>\n",
        "      <td> 1003000381</td>\n",
        "      <td> BRAGANZA</td>\n",
        "      <td> LUTHER</td>\n",
        "      <td> Q</td>\n",
        "      <td> PT</td>\n",
        "      <td> M</td>\n",
        "      <td> I</td>\n",
        "      <td> 134 N OLD DIXIE HWY</td>\n",
        "      <td> NaN</td>\n",
        "      <td> LADY LAKE</td>\n",
        "      <td>...</td>\n",
        "      <td>          Pt evaluation</td>\n",
        "      <td>  23</td>\n",
        "      <td> 23</td>\n",
        "      <td>  23</td>\n",
        "      <td> 73.47</td>\n",
        "      <td> 0</td>\n",
        "      <td> 96.956522</td>\n",
        "      <td> 5.051717</td>\n",
        "      <td> 58.643913</td>\n",
        "      <td> 0.638304</td>\n",
        "    </tr>\n",
        "    <tr>\n",
        "      <th>1</th>\n",
        "      <td> 1003000381</td>\n",
        "      <td> BRAGANZA</td>\n",
        "      <td> LUTHER</td>\n",
        "      <td> Q</td>\n",
        "      <td> PT</td>\n",
        "      <td> M</td>\n",
        "      <td> I</td>\n",
        "      <td> 134 N OLD DIXIE HWY</td>\n",
        "      <td> NaN</td>\n",
        "      <td> LADY LAKE</td>\n",
        "      <td>...</td>\n",
        "      <td> Electrical stimulation</td>\n",
        "      <td>  69</td>\n",
        "      <td> 14</td>\n",
        "      <td>  69</td>\n",
        "      <td> 16.42</td>\n",
        "      <td> 0</td>\n",
        "      <td> 45.000000</td>\n",
        "      <td> 0.000000</td>\n",
        "      <td> 12.378261</td>\n",
        "      <td> 3.070669</td>\n",
        "    </tr>\n",
        "    <tr>\n",
        "      <th>2</th>\n",
        "      <td> 1003000381</td>\n",
        "      <td> BRAGANZA</td>\n",
        "      <td> LUTHER</td>\n",
        "      <td> Q</td>\n",
        "      <td> PT</td>\n",
        "      <td> M</td>\n",
        "      <td> I</td>\n",
        "      <td> 134 N OLD DIXIE HWY</td>\n",
        "      <td> NaN</td>\n",
        "      <td> LADY LAKE</td>\n",
        "      <td>...</td>\n",
        "      <td>     Ultrasound therapy</td>\n",
        "      <td> 137</td>\n",
        "      <td> 22</td>\n",
        "      <td> 136</td>\n",
        "      <td> 11.37</td>\n",
        "      <td> 0</td>\n",
        "      <td> 35.000000</td>\n",
        "      <td> 0.000000</td>\n",
        "      <td>  8.767883</td>\n",
        "      <td> 1.706447</td>\n",
        "    </tr>\n",
        "  </tbody>\n",
        "</table>\n",
        "<p>3 rows \u00d7 27 columns</p>\n",
        "</div>"
       ],
       "metadata": {},
       "output_type": "pyout",
       "prompt_number": 3,
       "text": [
        "          npi nppes_provider_last_org_name nppes_provider_first_name  \\\n",
        "0  1003000381                     BRAGANZA                    LUTHER   \n",
        "1  1003000381                     BRAGANZA                    LUTHER   \n",
        "2  1003000381                     BRAGANZA                    LUTHER   \n",
        "\n",
        "  nppes_provider_mi nppes_credentials nppes_provider_gender nppes_entity_code  \\\n",
        "0                 Q                PT                     M                 I   \n",
        "1                 Q                PT                     M                 I   \n",
        "2                 Q                PT                     M                 I   \n",
        "\n",
        "  nppes_provider_street1 nppes_provider_street2 nppes_provider_city  \\\n",
        "0    134 N OLD DIXIE HWY                    NaN           LADY LAKE   \n",
        "1    134 N OLD DIXIE HWY                    NaN           LADY LAKE   \n",
        "2    134 N OLD DIXIE HWY                    NaN           LADY LAKE   \n",
        "\n",
        "          ...               hcpcs_description line_srvc_cnt bene_unique_cnt  \\\n",
        "0         ...                   Pt evaluation            23              23   \n",
        "1         ...          Electrical stimulation            69              14   \n",
        "2         ...              Ultrasound therapy           137              22   \n",
        "\n",
        "  bene_day_srvc_cnt average_Medicare_allowed_amt stdev_Medicare_allowed_amt  \\\n",
        "0                23                        73.47                          0   \n",
        "1                69                        16.42                          0   \n",
        "2               136                        11.37                          0   \n",
        "\n",
        "  average_submitted_chrg_amt stdev_submitted_chrg_amt  \\\n",
        "0                  96.956522                 5.051717   \n",
        "1                  45.000000                 0.000000   \n",
        "2                  35.000000                 0.000000   \n",
        "\n",
        "   average_Medicare_payment_amt  stdev_Medicare_payment_amt  \n",
        "0                     58.643913                    0.638304  \n",
        "1                     12.378261                    3.070669  \n",
        "2                      8.767883                    1.706447  \n",
        "\n",
        "[3 rows x 27 columns]"
       ]
      }
     ],
     "prompt_number": 3
    },
    {
     "cell_type": "markdown",
     "metadata": {},
     "source": [
      "Here we print out a small subset of the data to get a sense of what we are working with."
     ]
    },
    {
     "cell_type": "code",
     "collapsed": false,
     "input": [
      "vnames = [\"npi\", \"nppes_provider_last_org_name\", \"hcpcs_description\", \"line_srvc_cnt\", \"average_Medicare_payment_amt\", \"stdev_Medicare_payment_amt\"]\n",
      "data[vnames].head()"
     ],
     "language": "python",
     "metadata": {},
     "outputs": [
      {
       "html": [
        "<div style=\"max-height:1000px;max-width:1500px;overflow:auto;\">\n",
        "<table border=\"1\" class=\"dataframe\">\n",
        "  <thead>\n",
        "    <tr style=\"text-align: right;\">\n",
        "      <th></th>\n",
        "      <th>npi</th>\n",
        "      <th>nppes_provider_last_org_name</th>\n",
        "      <th>hcpcs_description</th>\n",
        "      <th>line_srvc_cnt</th>\n",
        "      <th>average_Medicare_payment_amt</th>\n",
        "      <th>stdev_Medicare_payment_amt</th>\n",
        "    </tr>\n",
        "  </thead>\n",
        "  <tbody>\n",
        "    <tr>\n",
        "      <th>0</th>\n",
        "      <td> 1003000381</td>\n",
        "      <td> BRAGANZA</td>\n",
        "      <td>          Pt evaluation</td>\n",
        "      <td>  23</td>\n",
        "      <td> 58.643913</td>\n",
        "      <td> 0.638304</td>\n",
        "    </tr>\n",
        "    <tr>\n",
        "      <th>1</th>\n",
        "      <td> 1003000381</td>\n",
        "      <td> BRAGANZA</td>\n",
        "      <td> Electrical stimulation</td>\n",
        "      <td>  69</td>\n",
        "      <td> 12.378261</td>\n",
        "      <td> 3.070669</td>\n",
        "    </tr>\n",
        "    <tr>\n",
        "      <th>2</th>\n",
        "      <td> 1003000381</td>\n",
        "      <td> BRAGANZA</td>\n",
        "      <td>     Ultrasound therapy</td>\n",
        "      <td> 137</td>\n",
        "      <td>  8.767883</td>\n",
        "      <td> 1.706447</td>\n",
        "    </tr>\n",
        "    <tr>\n",
        "      <th>3</th>\n",
        "      <td> 1003000381</td>\n",
        "      <td> BRAGANZA</td>\n",
        "      <td>  Therapeutic exercises</td>\n",
        "      <td> 433</td>\n",
        "      <td> 22.297760</td>\n",
        "      <td> 4.213327</td>\n",
        "    </tr>\n",
        "    <tr>\n",
        "      <th>4</th>\n",
        "      <td> 1003000381</td>\n",
        "      <td> BRAGANZA</td>\n",
        "      <td>         Manual therapy</td>\n",
        "      <td> 172</td>\n",
        "      <td> 19.488837</td>\n",
        "      <td> 4.387613</td>\n",
        "    </tr>\n",
        "  </tbody>\n",
        "</table>\n",
        "</div>"
       ],
       "metadata": {},
       "output_type": "pyout",
       "prompt_number": 4,
       "text": [
        "          npi nppes_provider_last_org_name       hcpcs_description  \\\n",
        "0  1003000381                     BRAGANZA           Pt evaluation   \n",
        "1  1003000381                     BRAGANZA  Electrical stimulation   \n",
        "2  1003000381                     BRAGANZA      Ultrasound therapy   \n",
        "3  1003000381                     BRAGANZA   Therapeutic exercises   \n",
        "4  1003000381                     BRAGANZA          Manual therapy   \n",
        "\n",
        "   line_srvc_cnt  average_Medicare_payment_amt  stdev_Medicare_payment_amt  \n",
        "0             23                     58.643913                    0.638304  \n",
        "1             69                     12.378261                    3.070669  \n",
        "2            137                      8.767883                    1.706447  \n",
        "3            433                     22.297760                    4.213327  \n",
        "4            172                     19.488837                    4.387613  "
       ]
      }
     ],
     "prompt_number": 4
    },
    {
     "cell_type": "markdown",
     "metadata": {},
     "source": [
      "The key value of interest here is the total amount of money paid by Medicare to each provider.  This is not an explicit variable in the data set, but we can create it by multiplying the average payment by the number of payments, within each record of the dataset."
     ]
    },
    {
     "cell_type": "code",
     "collapsed": false,
     "input": [
      "data[\"total_payment\"] = data[\"line_srvc_cnt\"] * data[\"average_Medicare_payment_amt\"]"
     ],
     "language": "python",
     "metadata": {},
     "outputs": [],
     "prompt_number": 5
    },
    {
     "cell_type": "markdown",
     "metadata": {},
     "source": [
      "Medicare makes payments to both individual providers, and to organizations.  Most of the payments are to individuals and it's not clear that the payment amounts to providers can be directly compared to the payment amounts to individuals.  So here we include only the individuals."
     ]
    },
    {
     "cell_type": "code",
     "collapsed": false,
     "input": [
      "data_ind = data[data[\"nppes_entity_code\"] == \"I\"]\n",
      "print data_ind.shape\n",
      "print data.shape"
     ],
     "language": "python",
     "metadata": {},
     "outputs": [
      {
       "output_type": "stream",
       "stream": "stdout",
       "text": [
        "(636249, 28)\n",
        "(667995, 28)\n"
       ]
      }
     ],
     "prompt_number": 6
    },
    {
     "cell_type": "markdown",
     "metadata": {},
     "source": [
      "Next we have a function that calculates the total payment for each provider.  This is a simple implementation, and is very inefficient.  Don't bother trying to run it, it takes a long time.  Below we will do the same calculation much more efficiently."
     ]
    },
    {
     "cell_type": "code",
     "collapsed": false,
     "input": [
      "def total_by_provider_naive(data):\n",
      "    \"\"\"\n",
      "    Returns a dictionary mapping each provider number to the total payment made to \n",
      "    the provider.\n",
      "    \n",
      "    ** Do not use, very slow **\n",
      "    \"\"\"\n",
      "    from collections import defaultdict\n",
      "    \n",
      "    totals = defaultdict(lambda : 0.)\n",
      "    \n",
      "    for i in data.index:\n",
      "        totals[data.loc[i, \"npi\"]] += data.loc[i, \"total_payment\"] \n",
      "    \n",
      "    return totals"
     ],
     "language": "python",
     "metadata": {},
     "outputs": [],
     "prompt_number": 7
    },
    {
     "cell_type": "markdown",
     "metadata": {},
     "source": [
      "Here is a much faster way to do the calculation.  Our goal is to obtain the total payment for each proivider.  We first group the data by the provider number, then aggregate within the groups by taking the sum of payment amounts.  Finally we sort the result so that the providers with the greatest total payments appear at the top of the list."
     ]
    },
    {
     "cell_type": "code",
     "collapsed": false,
     "input": [
      "totals2 = data_ind.groupby(\"npi\").agg({\"total_payment\": np.sum})\n",
      "totals2.sort(\"total_payment\", ascending=False, inplace=True)\n",
      "print totals2.head()"
     ],
     "language": "python",
     "metadata": {},
     "outputs": [
      {
       "output_type": "stream",
       "stream": "stdout",
       "text": [
        "              total_payment\n",
        "npi                        \n",
        "1245298371  20827340.740274\n",
        "1033145487  18154815.829820\n",
        "1922021195  10726482.210034\n",
        "1821058496   8419176.929998\n",
        "1790744746   6965575.780054\n"
       ]
      }
     ],
     "prompt_number": 11
    },
    {
     "cell_type": "markdown",
     "metadata": {},
     "source": [
      "Next we have an enhanced version of the code in the previous cell that also includes the provider's last name in the output table.  We cannot aggregate names by summing, so we provide two aggregation functions.  For the payment data, we aggregate by taking the sum.  For the provider name, we aggregate by selecting the first value within each group (assuming that the provider name is constant within groups, which it should be)."
     ]
    },
    {
     "cell_type": "code",
     "collapsed": false,
     "input": [
      "first = lambda x : x.iloc[0]\n",
      "\n",
      "totals2 = data_ind.groupby(\"npi\").agg({\"total_payment\": sum, \"nppes_provider_last_org_name\": first})\n",
      "totals2.sort(\"total_payment\", ascending=False, inplace=True)\n",
      "totals2.head()"
     ],
     "language": "python",
     "metadata": {},
     "outputs": [
      {
       "html": [
        "<div style=\"max-height:1000px;max-width:1500px;overflow:auto;\">\n",
        "<table border=\"1\" class=\"dataframe\">\n",
        "  <thead>\n",
        "    <tr style=\"text-align: right;\">\n",
        "      <th></th>\n",
        "      <th>nppes_provider_last_org_name</th>\n",
        "      <th>total_payment</th>\n",
        "    </tr>\n",
        "    <tr>\n",
        "      <th>npi</th>\n",
        "      <th></th>\n",
        "      <th></th>\n",
        "    </tr>\n",
        "  </thead>\n",
        "  <tbody>\n",
        "    <tr>\n",
        "      <th>1245298371</th>\n",
        "      <td>     MELGEN</td>\n",
        "      <td> 20827340.740274</td>\n",
        "    </tr>\n",
        "    <tr>\n",
        "      <th>1033145487</th>\n",
        "      <td>      QAMAR</td>\n",
        "      <td> 18154815.829820</td>\n",
        "    </tr>\n",
        "    <tr>\n",
        "      <th>1922021195</th>\n",
        "      <td>      EATON</td>\n",
        "      <td> 10726482.210034</td>\n",
        "    </tr>\n",
        "    <tr>\n",
        "      <th>1821058496</th>\n",
        "      <td>   MALHOTRA</td>\n",
        "      <td>  8419176.929998</td>\n",
        "    </tr>\n",
        "    <tr>\n",
        "      <th>1790744746</th>\n",
        "      <td> RASKAUSKAS</td>\n",
        "      <td>  6965575.780054</td>\n",
        "    </tr>\n",
        "  </tbody>\n",
        "</table>\n",
        "</div>"
       ],
       "metadata": {},
       "output_type": "pyout",
       "prompt_number": 9,
       "text": [
        "           nppes_provider_last_org_name    total_payment\n",
        "npi                                                     \n",
        "1245298371                       MELGEN  20827340.740274\n",
        "1033145487                        QAMAR  18154815.829820\n",
        "1922021195                        EATON  10726482.210034\n",
        "1821058496                     MALHOTRA   8419176.929998\n",
        "1790744746                   RASKAUSKAS   6965575.780054"
       ]
      }
     ],
     "prompt_number": 9
    },
    {
     "cell_type": "code",
     "collapsed": false,
     "input": [
      "plt.clf()\n",
      "plt.plot(totals2[::-1])\n",
      "plt.grid(True)\n",
      "plt.xlabel(\"Provider rank\", size=15)\n",
      "plt.ylabel(\"Total payment\", size=15)\n",
      "plt.ylim(0, 1e6)"
     ],
     "language": "python",
     "metadata": {},
     "outputs": [
      {
       "metadata": {},
       "output_type": "pyout",
       "prompt_number": 18,
       "text": [
        "(0, 1000000.0)"
       ]
      },
      {
       "metadata": {},
       "output_type": "display_data",
       "png": "[encoded data removed]",
       "text": [
        "<matplotlib.figure.Figure at 0x7f3dd87739d0>"
       ]
      }
     ],
     "prompt_number": 18
    }
   ],
   "metadata": {}
  }
 ]
}