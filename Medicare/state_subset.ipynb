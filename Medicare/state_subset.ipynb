{
 "metadata": {
  "name": "",
  "signature": "sha256:a260ac1cc1a350dc26074e5260a2b7230ca57cba323204044d8c235f4a40ddbb"
 },
 "nbformat": 3,
 "nbformat_minor": 0,
 "worksheets": [
  {
   "cells": [
    {
     "cell_type": "markdown",
     "metadata": {},
     "source": [
      "Medicare payment database - subset by state\n",
      "===========================================\n",
      "\n",
      "This notebook can be used to subset the 2012 medicare provider utilization and payment data by state.\n",
      "\n",
      "The raw data are available here:\n",
      "\n",
      "http://www.cms.gov/Research-Statistics-Data-and-Systems/Statistics-Trends-and-Reports/Medicare-Provider-Charge-Data/Physician-and-Other-Supplier.html\n",
      "\n",
      "The files are downloaded in a zip archive.  After extracting the files, compress the main data file.  We used gzip here, if you compress it in a different way you will need to edit some of the code below."
     ]
    },
    {
     "cell_type": "markdown",
     "metadata": {},
     "source": [
      "We will use these modules from the standard library."
     ]
    },
    {
     "cell_type": "code",
     "collapsed": false,
     "input": [
      "import gzip\n",
      "import os\n",
      "import csv"
     ],
     "language": "python",
     "metadata": {},
     "outputs": []
    },
    {
     "cell_type": "markdown",
     "metadata": {},
     "source": [
      "Choose a state to subset."
     ]
    },
    {
     "cell_type": "code",
     "collapsed": false,
     "input": [
      "state = \"FL\""
     ],
     "language": "python",
     "metadata": {},
     "outputs": []
    },
    {
     "cell_type": "markdown",
     "metadata": {},
     "source": [
      "This should be the name of the data file downloaded from the CMS web site, edit if needed."
     ]
    },
    {
     "cell_type": "code",
     "collapsed": false,
     "input": [
      "fname = \"Medicare-Physician-and-Other-Supplier-PUF-CY2012.txt.gz\""
     ],
     "language": "python",
     "metadata": {},
     "outputs": []
    },
    {
     "cell_type": "markdown",
     "metadata": {},
     "source": [
      "Set up a reader for a tab-delimited file.  If you compressed the file using something other than gzip you will need to edit this cell to use the corresponding compressed file reader."
     ]
    },
    {
     "cell_type": "code",
     "collapsed": false,
     "input": [
      "fid = gzip.open(fname)\n",
      "inp = csv.reader(fid, delimiter=\"\\t\")"
     ],
     "language": "python",
     "metadata": {},
     "outputs": []
    },
    {
     "cell_type": "markdown",
     "metadata": {},
     "source": [
      "Set up a writer for the state subset file to be created. "
     ]
    },
    {
     "cell_type": "code",
     "collapsed": false,
     "input": [
      "oname = state + \"-subset.csv.gz\"\n",
      "oid = gzip.open(oname, \"w\")\n",
      "out = csv.writer(oid)"
     ],
     "language": "python",
     "metadata": {},
     "outputs": []
    },
    {
     "cell_type": "markdown",
     "metadata": {},
     "source": [
      "Always include the header."
     ]
    },
    {
     "cell_type": "code",
     "collapsed": false,
     "input": [
      "head = inp.next()\n",
      "out.writerow(head)"
     ],
     "language": "python",
     "metadata": {},
     "outputs": []
    },
    {
     "cell_type": "markdown",
     "metadata": {},
     "source": [
      "Read the rest of the file and write the selected records."
     ]
    },
    {
     "cell_type": "code",
     "collapsed": false,
     "input": [
      "for line in inp:\n",
      "\n",
      "    if line[11] == state:\n",
      "        out.writerow(line)"
     ],
     "language": "python",
     "metadata": {},
     "outputs": []
    },
    {
     "cell_type": "markdown",
     "metadata": {},
     "source": [
      "Clean up."
     ]
    },
    {
     "cell_type": "code",
     "collapsed": false,
     "input": [
      "oid.close()\n",
      "fid.close()"
     ],
     "language": "python",
     "metadata": {},
     "outputs": []
    }
   ],
   "metadata": {}
  }
 ]
}