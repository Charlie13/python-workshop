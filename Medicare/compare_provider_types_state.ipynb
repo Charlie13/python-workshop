{
 "metadata": {
  "name": "",
  "signature": "sha256:6f4f519d77f102bcf2d8e5a91c35867b8c1743efb3d3bff27a9b7f3b4707be34"
 },
 "nbformat": 3,
 "nbformat_minor": 0,
 "worksheets": [
  {
   "cells": [
    {
     "cell_type": "markdown",
     "metadata": {},
     "source": [
      "US Medicare Payment Data - comparison of payment distributions among states\n",
      "===========================================================================\n",
      "\n",
      "In this script we compare Medicare payments in 2012 between states.  There are many ways to do this.  For example, we could look at the total or average of all payments to all providers in a state.  However the total payment at the state level would scale with the size of the state, and the average payment may be affected by the composition of patients and providers within the state.  To reduce these effects, we can look at the average payment made within a state to all providers of a specific type, or for all services of a particular type.  These averages can then be compared between states.\n",
      "\n",
      "The data can be obtained [here](http://www.cms.gov/Research-Statistics-Data-and-Systems/Statistics-Trends-and-Reports/Medicare-Provider-Charge-Data/Physician-and-Other-Supplier.html).\n",
      "\n",
      "[Here](http://www.cms.gov/Research-Statistics-Data-and-Systems/Statistics-Trends-and-Reports/Medicare-Provider-Charge-Data/Downloads/Medicare-Physician-and-Other-Supplier-PUF-Methodology.pdf) is some documentation about the data set.  "
     ]
    },
    {
     "cell_type": "markdown",
     "metadata": {},
     "source": [
      "First we import the libraries that we will use in the script."
     ]
    },
    {
     "cell_type": "code",
     "collapsed": false,
     "input": [
      "import numpy as np\n",
      "import pandas as pd\n",
      "import matplotlib.pyplot as plt"
     ],
     "language": "python",
     "metadata": {},
     "outputs": []
    },
    {
     "cell_type": "markdown",
     "metadata": {},
     "source": [
      "Next we read in the data for each state.  This uses a list comprehension that creates a list of Pandas DataFrame objects (one DataFrame for each state)."
     ]
    },
    {
     "cell_type": "code",
     "collapsed": false,
     "input": [
      "state_names = [\"FL\", \"MI\"]\n",
      "fnames = [x + \"-subset.csv.gz\" for x in state_names]\n",
      "states = [pd.read_csv(x, compression=\"gzip\") for x in fnames]\n",
      "print [type(x) for x in states]\n",
      "print [x.shape for x in states]"
     ],
     "language": "python",
     "metadata": {},
     "outputs": []
    },
    {
     "cell_type": "markdown",
     "metadata": {},
     "source": [
      "We want to focus on individual providers here, so we exclude the organizations."
     ]
    },
    {
     "cell_type": "code",
     "collapsed": false,
     "input": [
      "individuals = [x.loc[:, \"nppes_entity_code\"] == \"I\" for x in states]\n",
      "states = [x.loc[i, :] for i, x in zip(individuals, states)]"
     ],
     "language": "python",
     "metadata": {},
     "outputs": []
    },
    {
     "cell_type": "markdown",
     "metadata": {},
     "source": [
      "### Comparing mean payments by provider type\n",
      "\n",
      "We start by calculating the total medicare payment for each type of service within each provider, within each state."
     ]
    },
    {
     "cell_type": "code",
     "collapsed": false,
     "input": [
      "for data in states:\n",
      "    data[\"total_payment\"] = data[\"line_srvc_cnt\"] * data[\"average_Medicare_payment_amt\"]\n",
      "print [x.shape for x in states]"
     ],
     "language": "python",
     "metadata": {},
     "outputs": []
    },
    {
     "cell_type": "markdown",
     "metadata": {},
     "source": [
      "The simplest comparison is to look at the total of all payments by state.  We calculate that in the next cell (in billions of US dollars).  If we are comparing Florida to Michigan, Florida's total population is 19.3 million and Michigan's is 9.8 million.  Florida's population of people over 65 years old is 4.1 million, and Michigan's is 1.5 million.  "
     ]
    },
    {
     "cell_type": "code",
     "collapsed": false,
     "input": [
      "tot = [x.loc[:, \"total_payment\"].sum()/1e9 for x in states]\n",
      "print tot\n",
      "print tot[0] / tot[1]\n",
      "print 19.3 / 9.8\n",
      "print 4.1 / 1.5\n",
      "print 1e3 * tot[0] / 19.3, 1e3 * tot[1] / 9.8"
     ],
     "language": "python",
     "metadata": {},
     "outputs": []
    },
    {
     "cell_type": "markdown",
     "metadata": {},
     "source": [
      "Next we aggregate the data by provider, taking the sum of all payments to each provider within each state.  Again we use list comprehensions, so the result is a list of DataFrames corresponding to the states being studied.  We aggregate the payments by summing, and we aggregate the provider type by taking the first value within the group (since it is constant within each group).  The `first` function extracts the first element from a Pandas `Series` object."
     ]
    },
    {
     "cell_type": "code",
     "collapsed": false,
     "input": [
      "first = lambda x: x.iloc[0]\n",
      "\n",
      "states_provider = [x.groupby(\"npi\").agg({\"total_payment\": np.sum, \"provider_type\": first}) for x in states]\n",
      "print [type(x) for x in states_provider]\n",
      "print [x.shape for x in states_provider]"
     ],
     "language": "python",
     "metadata": {},
     "outputs": []
    },
    {
     "cell_type": "markdown",
     "metadata": {},
     "source": [
      "This is what we have at this point:"
     ]
    },
    {
     "cell_type": "code",
     "collapsed": false,
     "input": [
      "print states_provider[0].head()"
     ],
     "language": "python",
     "metadata": {},
     "outputs": []
    },
    {
     "cell_type": "markdown",
     "metadata": {},
     "source": [
      "Next we aggregate again, this time aggregating over all providers of a given type."
     ]
    },
    {
     "cell_type": "code",
     "collapsed": false,
     "input": [
      "states_provider_type = [x.groupby(\"provider_type\").agg(np.mean) for x in states_provider]\n",
      "print [type(x) for x in states_provider_type]\n",
      "print [x.shape for x in states_provider_type]"
     ],
     "language": "python",
     "metadata": {},
     "outputs": []
    },
    {
     "cell_type": "markdown",
     "metadata": {},
     "source": [
      "A few provider types are used in one state but not the other:"
     ]
    },
    {
     "cell_type": "code",
     "collapsed": false,
     "input": [
      "ptypes = [x.index.tolist() for x in states_provider_type]\n",
      "print set(ptypes[0]) - set(ptypes[1])\n",
      "print set(ptypes[1]) - set(ptypes[0])"
     ],
     "language": "python",
     "metadata": {},
     "outputs": []
    },
    {
     "cell_type": "markdown",
     "metadata": {},
     "source": [
      "This is what these data look like (for the first state), the numbers are the average total payment to a provider of a given type within the state:"
     ]
    },
    {
     "cell_type": "code",
     "collapsed": false,
     "input": [
      "print states_provider_type[0].head()"
     ],
     "language": "python",
     "metadata": {},
     "outputs": []
    },
    {
     "cell_type": "markdown",
     "metadata": {},
     "source": [
      "Up to this point, we had a separate data set for the each state.  Now that we have reduced the data to the main quantity of interest, we can merge the state-level data sets into a single data set, to make it easier to compare the states."
     ]
    },
    {
     "cell_type": "code",
     "collapsed": false,
     "input": [
      "for df,state in zip(states_provider_type, state_names):\n",
      "    df.columns = [state,]\n",
      "provider_type_avg = pd.concat(states_provider_type, axis=1)"
     ],
     "language": "python",
     "metadata": {},
     "outputs": []
    },
    {
     "cell_type": "markdown",
     "metadata": {},
     "source": [
      "Here is a peek at the merged data set:"
     ]
    },
    {
     "cell_type": "code",
     "collapsed": false,
     "input": [
      "print provider_type_avg.head()"
     ],
     "language": "python",
     "metadata": {},
     "outputs": []
    },
    {
     "cell_type": "markdown",
     "metadata": {},
     "source": [
      "Since some provider types are not present in a given state, after mergin their payment value will be `nan`.  We can confirm that here:"
     ]
    },
    {
     "cell_type": "code",
     "collapsed": false,
     "input": [
      "print pd.isnull(provider_type_avg).sum()"
     ],
     "language": "python",
     "metadata": {},
     "outputs": []
    },
    {
     "cell_type": "markdown",
     "metadata": {},
     "source": [
      "In this setting, it might be reasonable to replace the missing values with zero:"
     ]
    },
    {
     "cell_type": "code",
     "collapsed": false,
     "input": [
      "provider_type_avg.replace(np.nan, 0, inplace=True)\n",
      "print pd.isnull(provider_type_avg).sum()"
     ],
     "language": "python",
     "metadata": {},
     "outputs": []
    },
    {
     "cell_type": "markdown",
     "metadata": {},
     "source": [
      "Next we make a scatterplot showing the average payments by provider type in one state versus the other."
     ]
    },
    {
     "cell_type": "code",
     "collapsed": false,
     "input": [
      "plt.clf()\n",
      "plt.plot(provider_type_avg.loc[:, state_names[0]], provider_type_avg.loc[:, state_names[1]], 'o', alpha=0.6)\n",
      "plt.plot([0, 2.5e6], [0, 2.5e6], '-', color='grey')\n",
      "plt.xlabel(state_names[0] + \" provider types\", size=15)\n",
      "plt.ylabel(state_names[1] + \" provider types\", size=15)"
     ],
     "language": "python",
     "metadata": {},
     "outputs": []
    },
    {
     "cell_type": "markdown",
     "metadata": {},
     "source": [
      "Since the payment levels are quite skewed, we will plot them on a log scale.  Note that the zeros that were introduced into the dataset will become `nan` after taking the log, and hence will be dropped from the plot.  This is OK because those probably reflect administrative differences in how the coding is handled, rather than being true zeros."
     ]
    },
    {
     "cell_type": "code",
     "collapsed": false,
     "input": [
      "plt.clf()\n",
      "x = np.log(provider_type_avg.loc[:, state_names[0]]) / np.log(2)\n",
      "y = np.log(provider_type_avg.loc[:, state_names[1]]) / np.log(2)\n",
      "plt.plot(x, y, 'o', alpha=0.6)\n",
      "plt.plot([10, 22], [10, 22], '-', color='grey')\n",
      "plt.xlabel(state_names[0] + \" provider types (log2)\", size=15)\n",
      "plt.ylabel(state_names[1] + \" provider types (log2)\", size=15)"
     ],
     "language": "python",
     "metadata": {},
     "outputs": []
    },
    {
     "cell_type": "markdown",
     "metadata": {},
     "source": [
      "We can also drill down and examine some of the provider types with the greatest difference in payment levels between the two states."
     ]
    },
    {
     "cell_type": "code",
     "collapsed": false,
     "input": [
      "ii = np.flatnonzero(y - x > 2)\n",
      "print provider_type_avg.iloc[ii, :]"
     ],
     "language": "python",
     "metadata": {},
     "outputs": []
    },
    {
     "cell_type": "code",
     "collapsed": false,
     "input": [
      "ii = np.flatnonzero(x - y > 2)\n",
      "print provider_type_avg.iloc[ii, :]"
     ],
     "language": "python",
     "metadata": {},
     "outputs": []
    },
    {
     "cell_type": "markdown",
     "metadata": {},
     "source": [
      "### Comparison by service type\n",
      "\n",
      "A different way to make the comparison is by aggregating in terms of service types."
     ]
    },
    {
     "cell_type": "code",
     "collapsed": false,
     "input": [
      "states_service = [x.groupby(\"hcpcs_code\").agg({\"average_Medicare_payment_amt\": np.mean, \"hcpcs_description\": first}) for x in states]\n",
      "print states_service[0].head()"
     ],
     "language": "python",
     "metadata": {},
     "outputs": []
    },
    {
     "cell_type": "markdown",
     "metadata": {},
     "source": [
      "After concatenating, the hcpcs_description column will be duplicated, since this column was present in the data file for each state.  We could drop it, but won't bother. "
     ]
    },
    {
     "cell_type": "code",
     "collapsed": false,
     "input": [
      "for df,state in zip(states_service, state_names):\n",
      "    df.rename(columns = {\"average_Medicare_payment_amt\": state}, inplace=True)\n",
      "service_type_avg = pd.concat(states_service, axis=1)\n",
      "print service_type_avg.shape\n",
      "print service_type_avg.head()"
     ],
     "language": "python",
     "metadata": {},
     "outputs": []
    },
    {
     "cell_type": "code",
     "collapsed": false,
     "input": [
      "plt.clf()\n",
      "plt.plot(service_type_avg.loc[:, state_names[0]], service_type_avg.loc[:, state_names[1]], 'o', alpha=0.6)\n",
      "plt.plot([0, 1e4], [0, 1e4], '-', color='grey')\n",
      "plt.xlabel(state_names[0] + \" service types\", size=15)\n",
      "_ = plt.ylabel(state_names[1] + \" service types\", size=15)"
     ],
     "language": "python",
     "metadata": {},
     "outputs": []
    },
    {
     "cell_type": "code",
     "collapsed": false,
     "input": [
      "plt.clf()\n",
      "x = np.log(service_type_avg.loc[:, state_names[0]]) / np.log(2)\n",
      "y = np.log(service_type_avg.loc[:, state_names[1]]) / np.log(2)\n",
      "plt.plot(x, y, 'o', alpha=0.6)\n",
      "plt.plot([0, 14], [0, 14], '-', color='grey')\n",
      "plt.xlim(0, 14)\n",
      "plt.ylim(0, 14)\n",
      "plt.xlabel(state_names[0] + \" service types\", size=15)\n",
      "_ = plt.ylabel(state_names[1] + \" service types\", size=15)"
     ],
     "language": "python",
     "metadata": {},
     "outputs": []
    },
    {
     "cell_type": "markdown",
     "metadata": {},
     "source": [
      "Another way to compare the two states is to examine the distribution of provider total payments.  A quantile-quantile (QQ) plot shows in detail how two distributions differ."
     ]
    },
    {
     "cell_type": "code",
     "collapsed": false,
     "input": [
      "provider_totals = [x.groupby(\"npi\").agg({\"total_payment\": np.sum}) for x in states]"
     ],
     "language": "python",
     "metadata": {},
     "outputs": []
    },
    {
     "cell_type": "markdown",
     "metadata": {},
     "source": [
      "We will need the a set of percentiles from the two data sets."
     ]
    },
    {
     "cell_type": "code",
     "collapsed": false,
     "input": [
      "q = np.linspace(0.01, 0.99, 50).tolist() # tolist needed due to numpy bug, fixed in 1.9\n",
      "pctls = [np.percentile(x, q) for x in provider_totals]\n",
      "q = np.linspace(0.1, 0.9, 9).tolist()\n",
      "dcls = [np.percentile(x, q) for x in provider_totals]"
     ],
     "language": "python",
     "metadata": {},
     "outputs": []
    },
    {
     "cell_type": "markdown",
     "metadata": {},
     "source": [
      "Here is the QQ plot.  It shows that Michigan providers receive lower payments than Florida providers at every point in the distribution."
     ]
    },
    {
     "cell_type": "code",
     "collapsed": false,
     "input": [
      "plt.plot(pctls[0], pctls[1], '-', lw=4)\n",
      "plt.plot(dcls[0], dcls[1], 'o', ms=10, mec='blue', mfc='white')\n",
      "plt.plot([0, 700], [0, 700], '-', color='grey')\n",
      "plt.xlabel(state_names[0] + \" payment quantiles\", size=15)\n",
      "_ = plt.ylabel(state_names[1] + \" payment quantiles\", size=15)"
     ],
     "language": "python",
     "metadata": {},
     "outputs": []
    },
    {
     "cell_type": "markdown",
     "metadata": {},
     "source": [
      "__Exercises:__\n",
      "\n",
      "* Compare the states' total Medicare payments in terms of the number of unique beneficiaries, and the number of unique beneficiary days (see the data documentation for the variable names).  Interpret the results relative to the states' population sizes and Medicare eligible (65 years of age or older) population sizes.\n",
      "\n",
      "* Calculate the proportion of providers in each state who belong to each provider type.  Compare these proportions between the two states using some of the techniques demonstrated above.\n",
      "\n",
      "* Repeat some of the analyses above using alternative measures to count the services (number of unique beneficiaries and number of unique beneficiary days). "
     ]
    }
   ],
   "metadata": {}
  }
 ]
}