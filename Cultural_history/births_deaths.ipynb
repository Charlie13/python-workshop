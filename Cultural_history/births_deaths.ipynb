{
 "metadata": {
  "name": "",
  "signature": "sha256:21638877eb6c8618291816fd32383cf1f02087ad73fee19018ae82d9f244101e"
 },
 "nbformat": 3,
 "nbformat_minor": 0,
 "worksheets": [
  {
   "cells": [
    {
     "cell_type": "markdown",
     "metadata": {},
     "source": [
      "Birth and death locations of notable individuals\n",
      "================================================\n",
      "\n",
      "In this notebook we do a few simple reanalyses of the geographic locations of the births and deaths of notable individuals.  A citation for the paper from which the data are drawn is below.  The data can be obtained from the journal's web site.\n",
      "\n",
      "Schich et al.  \n",
      "A Network Framework of Cultural History   \n",
      "Science 1 August 2014:   \n",
      "Vol. 345 no. 6196 pp. 558-562   \n",
      "DOI: 10.1126/science.1240064  \n",
      "\n",
      "http://www.sciencemag.org.proxy.lib.umich.edu/content/345/6196/558.full?sid=e81c0b60-e901-49e9-b9a7-1b95a2fee3d6"
     ]
    },
    {
     "cell_type": "markdown",
     "metadata": {},
     "source": [
      "We import our standard libraries, and also a couple of libraries for handling geographic data."
     ]
    },
    {
     "cell_type": "code",
     "collapsed": false,
     "input": [
      "import pandas as pd\n",
      "import numpy as np\n",
      "from mpl_toolkits.basemap import Basemap\n",
      "import pyproj"
     ],
     "language": "python",
     "metadata": {},
     "outputs": []
    },
    {
     "cell_type": "markdown",
     "metadata": {},
     "source": [
      "This is one of the data sets used in the Schich et al. paper:"
     ]
    },
    {
     "cell_type": "code",
     "collapsed": false,
     "input": [
      "data = pd.read_csv(\"SchichDataS1_FB.csv.gz\", compression=\"gzip\", encoding='utf-8')\n",
      "print data.shape\n",
      "print data.columns"
     ],
     "language": "python",
     "metadata": {},
     "outputs": []
    },
    {
     "cell_type": "markdown",
     "metadata": {},
     "source": [
      "### Distance from birth location to death location\n",
      "\n",
      "In the next cell, we calculate the distance between the location where a person was born and the location where she or he died.  This involves calculating geodesic distances, which can be handled using the `pyproj` [bindings](http://pyproj.googlecode.com/svn/trunk/docs/index.html) for the `proj` [library](http://trac.osgeo.org/proj).  See [here](http://gis.stackexchange.com/questions/47/what-tools-in-python-are-available-for-doing-great-circle-distance-line-creati) for more discussion about calculating geodesic distances in Python."
     ]
    },
    {
     "cell_type": "code",
     "collapsed": false,
     "input": [
      "df = data.loc[:, [\"BLocLat\", \"BLocLong\", \"DLocLat\", \"DLocLong\"]].dropna()\n",
      "dfa = np.asarray(df)\n",
      "g = pyproj.Geod(ellps='WGS84')\n",
      "_, _, dists = g.inv(dfa[:, 1], dfa[:, 0], dfa[:, 3], dfa[:, 2])\n",
      "data[\"rdist\"] = pd.Series(dists / 1000, df.index) # Convert distances to kilometers"
     ],
     "language": "python",
     "metadata": {},
     "outputs": []
    },
    {
     "cell_type": "markdown",
     "metadata": {},
     "source": [
      "A simple starting point is to look at the distribution of the distances between birth locations and death locations.  There are two components to the distribution: around 15% of people were born and died in the same location; of the remainder, there is a wide distribution of distances centered at around 10^2.5 ~ 320km."
     ]
    },
    {
     "cell_type": "code",
     "collapsed": false,
     "input": [
      "rdist = data[\"rdist\"].dropna()\n",
      "plt.clf()\n",
      "plt.hist(np.log(1 + rdist) / np.log(10), bins=50)\n",
      "plt.xlabel(\"Log10 distance (km)\", size=15)\n",
      "plt.ylabel(\"Frequency\", size=15)\n",
      "print np.mean(rdist == 0)"
     ],
     "language": "python",
     "metadata": {},
     "outputs": []
    },
    {
     "cell_type": "markdown",
     "metadata": {},
     "source": [
      "We can aso look at how the distance between birth locations and death locations has changed over time.  We start with a simple scatterplot."
     ]
    },
    {
     "cell_type": "code",
     "collapsed": false,
     "input": [
      "data[\"AYear\"] = (data[\"BYear\"] + data[\"DYear\"]) / 2\n",
      "plt.clf()\n",
      "plt.plot(data[\"AYear\"], data[\"rdist\"], 'o', alpha=0.2)\n",
      "plt.xlabel(\"Year\", size=15)\n",
      "_ = plt.ylabel(\"Distance (km)\", size=15)"
     ],
     "language": "python",
     "metadata": {},
     "outputs": []
    },
    {
     "cell_type": "markdown",
     "metadata": {},
     "source": [
      "There are far more data records from recent history, so this plot may be misleading due to overplotting.  We can fit the conditional mean curve to see how the average distance has changed over time.  We did this analysis on the log scale.  There is a rapid increase in the mean around 1700, and perhaps a decrease in recent decades."
     ]
    },
    {
     "cell_type": "code",
     "collapsed": false,
     "input": [
      "from statsmodels.nonparametric.smoothers_lowess import lowess\n",
      "df = data.loc[:, [\"rdist\", \"AYear\"]].dropna()\n",
      "df.sort(columns=\"AYear\", inplace=True)\n",
      "dfa = np.asarray(df)\n",
      "dfa[:, 0] = np.log(1 + dfa[:, 0]) / np.log(10)\n",
      "lfit = lowess(dfa[:, 0], dfa[:, 1], frac=0.1)"
     ],
     "language": "python",
     "metadata": {},
     "outputs": []
    },
    {
     "cell_type": "code",
     "collapsed": false,
     "input": [
      "plt.clf()\n",
      "plt.plot(dfa[:, 1], dfa[:, 0], 'o', color='grey', alpha=0.05)\n",
      "plt.plot(lfit[:,0], lfit[:,1], '-', color='lime', lw=3, alpha=0.9)\n",
      "plt.xlabel(\"Year\", size=15)\n",
      "_ = plt.ylabel(\"Log10 distance\", size=15)"
     ],
     "language": "python",
     "metadata": {},
     "outputs": []
    },
    {
     "cell_type": "markdown",
     "metadata": {},
     "source": [
      "I was curious about some of the people who lived long ago and yet travelled great distances during their lives:"
     ]
    },
    {
     "cell_type": "code",
     "collapsed": false,
     "input": [
      "ii = (data[\"rdist\"] > 3000) & (data[\"AYear\"] < 1000)\n",
      "data.loc[ii, [\"PrsLabel\", \"AYear\", \"BLocLabel\", \"DLocLabel\", \"rdist\"]]"
     ],
     "language": "python",
     "metadata": {},
     "outputs": []
    },
    {
     "cell_type": "markdown",
     "metadata": {},
     "source": [
      "Wikipedia says that [Kumarajiva](http://en.wikipedia.org/wiki/Kum%C4%81raj%C4%ABva) was born and died in China and that his father was from Kashmir."
     ]
    },
    {
     "cell_type": "markdown",
     "metadata": {},
     "source": [
      "One more drill-down check -- who has the greatest distance between their birth and death locations?  The circumference of the earth is 40,075km, so the maximum possible distance is half of this value."
     ]
    },
    {
     "cell_type": "code",
     "collapsed": false,
     "input": [
      "ii = np.argmax(rdist)\n",
      "print data.loc[ii, :]\n",
      "print 40075. / 2"
     ],
     "language": "python",
     "metadata": {},
     "outputs": []
    },
    {
     "cell_type": "markdown",
     "metadata": {},
     "source": [
      "We repeated the same analysis using only the data from 1600 to the present."
     ]
    },
    {
     "cell_type": "code",
     "collapsed": false,
     "input": [
      "df = data.loc[:, [\"rdist\", \"AYear\"]].dropna()\n",
      "df = df.loc[df[\"AYear\"] >= 1600, :]\n",
      "df.sort(columns=\"AYear\", inplace=True)\n",
      "dfa = np.asarray(df)\n",
      "dfa[:, 0] = np.log(1 + dfa[:, 0]) / np.log(10)\n",
      "lfit = lowess(dfa[:, 0], dfa[:, 1], frac=0.1)"
     ],
     "language": "python",
     "metadata": {},
     "outputs": []
    },
    {
     "cell_type": "code",
     "collapsed": false,
     "input": [
      "plt.clf()\n",
      "plt.plot(dfa[:, 1], dfa[:, 0], 'o', color='grey', alpha=0.05)\n",
      "plt.plot(lfit[:,0], lfit[:,1], '-', color='lime', lw=3, alpha=0.9)\n",
      "plt.xlabel(\"Year\", size=15)\n",
      "_ = plt.ylabel(\"Log distance\", size=15)"
     ],
     "language": "python",
     "metadata": {},
     "outputs": []
    },
    {
     "cell_type": "markdown",
     "metadata": {},
     "source": [
      "### Maps\n",
      "\n",
      "In this section we will make some simple maps showing the birth locations."
     ]
    },
    {
     "cell_type": "code",
     "collapsed": false,
     "input": [
      "df = data.loc[:, [\"BLocLat\", \"BLocLong\"]].dropna()\n",
      "latit = np.asarray(df[\"BLocLat\"])\n",
      "longit = np.asarray(df[\"BLocLong\"])"
     ],
     "language": "python",
     "metadata": {},
     "outputs": []
    },
    {
     "cell_type": "markdown",
     "metadata": {},
     "source": [
      "The following cell shows the natural way to make a map of the birth locations.  However currently it doesn't work due to a bug in Basemap.  See the next cell for a workaround."
     ]
    },
    {
     "cell_type": "code",
     "collapsed": false,
     "input": [
      "#mp = Basemap()\n",
      "#plt.figure(figsize=(16, 12))\n",
      "#mp.drawcoastlines()\n",
      "#mp.plot(longit[0:10000], latit[0:10000], '.', latlon=True, color='blue')"
     ],
     "language": "python",
     "metadata": {},
     "outputs": []
    },
    {
     "cell_type": "code",
     "collapsed": false,
     "input": [
      "mp = Basemap()\n",
      "plt.figure(figsize=(16, 12))\n",
      "mp.drawcoastlines() \n",
      "x, y = mp(longit, latit)\n",
      "mp.plot(x, y, 'o', color='blue', alpha=0.5, ms=4, latlon=False)"
     ],
     "language": "python",
     "metadata": {},
     "outputs": []
    },
    {
     "cell_type": "code",
     "collapsed": false,
     "input": [
      "data.columns"
     ],
     "language": "python",
     "metadata": {},
     "outputs": []
    },
    {
     "cell_type": "markdown",
     "metadata": {},
     "source": [
      "### Exercises \n",
      "\n",
      "* Someone was supposedly born in the Pacific Ocean about one third of the way from Vancouver to Honolulu.  Who was this?  Is the point in the correct place?\n",
      "\n",
      "* Make a histogram showing the distribution of birth years.\n",
      "\n",
      "* For the people in the dataset who were born in each century, determine the proportion who were born in the southern hemisphere.  Make a graph plotting this proportion against time.  Do the same for the western hemisphere."
     ]
    }
   ],
   "metadata": {}
  }
 ]
}