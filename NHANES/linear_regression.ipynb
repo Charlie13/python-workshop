{
 "metadata": {
  "name": "",
  "signature": "sha256:40254187598a850b0899fc867af38e3329eba0b52fb716c281f41cdaf7c594d7"
 },
 "nbformat": 3,
 "nbformat_minor": 0,
 "worksheets": [
  {
   "cells": [
    {
     "cell_type": "markdown",
     "metadata": {},
     "source": [
      "NHANES - linear regression analysis\n",
      "===================================\n",
      "\n",
      "This notebook demonstrates a linear regression analysis using data from the NHANES (National Health and Nutrition Examination Survey) data."
     ]
    },
    {
     "cell_type": "code",
     "collapsed": false,
     "input": [
      "import xport\n",
      "import numpy as np\n",
      "import matplotlib.pyplot as plt\n",
      "import statsmodels.api as sm\n",
      "import pandas as pd"
     ],
     "language": "python",
     "metadata": {},
     "outputs": []
    },
    {
     "cell_type": "markdown",
     "metadata": {},
     "source": [
      "Here is a function for reading the raw NHANES data, which are supplied in SAS xport format.  You will need the `xport.py` module, which is available here:\n",
      "\n",
      "https://pypi.python.org/pypi/xport/0.1.0\n",
      "\n",
      "See our NHANES smoothing analysis notebook for more details about working with the NHANES data files."
     ]
    },
    {
     "cell_type": "code",
     "collapsed": false,
     "input": [
      "def read_xport(fname):\n",
      "    \"\"\"\n",
      "    Returns a DataFrame containing the data contained in the xport file with file name `fname`.\n",
      "    \"\"\"\n",
      "    with xport.XportReader(fname) as reader:\n",
      "        data = [row for row in reader]\n",
      "    data = pd.DataFrame(data)\n",
      "    data = data.set_index(\"SEQN\")\n",
      "    return data"
     ],
     "language": "python",
     "metadata": {},
     "outputs": [],
     "prompt_number": 119
    },
    {
     "cell_type": "markdown",
     "metadata": {},
     "source": [
      "The following cell reads thee sets of NHANES data and merges them to form a single data set."
     ]
    },
    {
     "cell_type": "code",
     "collapsed": false,
     "input": [
      "fnames = [\"BMX_G.XPT\", \"BPX_G.XPT\", \"DEMO_G.XPT\"]\n",
      "datasets = [read_xport(x) for x in fnames]\n",
      "nhanes = pd.concat(datasets, axis=1)\n",
      "print nhanes.shape"
     ],
     "language": "python",
     "metadata": {},
     "outputs": [
      {
       "output_type": "stream",
       "stream": "stdout",
       "text": [
        "(9756, 86)\n"
       ]
      }
     ],
     "prompt_number": 120
    },
    {
     "cell_type": "markdown",
     "metadata": {},
     "source": [
      "Linear regression analysis aims to recover the conditional mean of one variable given the values of one or more predictor variables.  Here we will use systolic blood pressuree (`BPXSY1`) as the outcome variable (dependent variable or response variable), and we will explore several possible sets of predictor variables (independent variables).  It's a good idea to start by checking the distributions of some of the variables in the model.  Immediately we see that there are a number of zeros in the blood pressure column.  We will need to exclude these cases."
     ]
    },
    {
     "cell_type": "code",
     "collapsed": false,
     "input": [
      "_ = plt.hist(np.asarray(nhanes.loc[:, \"BPXSY1\"].dropna()))"
     ],
     "language": "python",
     "metadata": {},
     "outputs": [
      {
       "metadata": {},
       "output_type": "display_data",
       "png": "[encoded data removed]",
       "text": [
        "<matplotlib.figure.Figure at 0x7f031c314510>"
       ]
      }
     ],
     "prompt_number": 121
    },
    {
     "cell_type": "markdown",
     "metadata": {},
     "source": [
      "After excluding the zeros, the distribution of blood pressure is somewhat skewed to the right.  It's not generally necessary to transform the dependent variable in a linear regression analysis to have a symmetric distribution, but it is often done.  Here, a generalized log transform gives us approximate symmetry.  Using the transformed outcome, the effects of the various predictors will reflect changes throughout the range of the response, rather than reflecting mainly the values in the tail of its distribution."
     ]
    },
    {
     "cell_type": "code",
     "collapsed": false,
     "input": [
      "nhanes = nhanes[nhanes[\"BPXSY1\"] > 0]\n",
      "_ = plt.hist(np.asarray(nhanes[\"BPXSY1\"].dropna()))\n",
      "plt.xlabel(\"BPXSY1\", size=15)\n",
      "plt.figure()\n",
      "nhanes[\"BPXSY1_tr\"] = np.log(nhanes[\"BPXSY1\"] - 30)\n",
      "_ = plt.hist(np.asarray(nhanes[\"BPXSY1_tr\"].dropna()))\n",
      "plt.xlabel(\"Transformed BPXSY1\", size=15)"
     ],
     "language": "python",
     "metadata": {},
     "outputs": [
      {
       "metadata": {},
       "output_type": "pyout",
       "prompt_number": 122,
       "text": [
        "<matplotlib.text.Text at 0x7f031bb3e1d0>"
       ]
      },
      {
       "metadata": {},
       "output_type": "display_data",
       "png": "[encoded data removed]",
       "text": [
        "<matplotlib.figure.Figure at 0x7f031bd17f90>"
       ]
      },
      {
       "metadata": {},
       "output_type": "display_data",
       "png": "[encoded data removed]",
       "text": [
        "<matplotlib.figure.Figure at 0x7f031bc40950>"
       ]
      }
     ],
     "prompt_number": 122
    },
    {
     "cell_type": "markdown",
     "metadata": {},
     "source": [
      "Here is a basic linear regression model, relating the transformed systolic blood pressure to age, gender, and BMI.  The summary table from the regression fit contains a lot of information.  To begin, focus on the column labeled `Coef`.  It tells us that older people, men, and people with higher BMI have higher systolic blood pressure.  Specifically, for each additional year of age, transformed systolic blood pressure is greater on average by 0.005 units, women have 0.05 units lower transformed systolic blood pressure than men on average, and for each additional unit of BMI, transformed systolic blood pressure is greater by 0.004 units on average.  All of these effects are highly statistically significantly different from zero, based on the p-values given in the column headed `P>|t|`.  Since the sample size is very small (note the sample size as given in the top part of the table), even very small effects can be statistically different from zero, so this is not very important.\n",
      "\n",
      "Also note the r-squared: these three variables explain about 38% of the variation in transformed systolic blood pressure."
     ]
    },
    {
     "cell_type": "code",
     "collapsed": false,
     "input": [
      "fml = \"BPXSY1_tr ~ RIDAGEYR + RIAGENDR + BMXBMI\"\n",
      "mod = sm.OLS.from_formula(fml, nhanes)\n",
      "rslt = mod.fit()\n",
      "print rslt.summary()"
     ],
     "language": "python",
     "metadata": {},
     "outputs": [
      {
       "output_type": "stream",
       "stream": "stdout",
       "text": [
        "                            OLS Regression Results                            \n",
        "==============================================================================\n",
        "Dep. Variable:              BPXSY1_tr   R-squared:                       0.381\n",
        "Model:                            OLS   Adj. R-squared:                  0.381\n",
        "Method:                 Least Squares   F-statistic:                     1387.\n",
        "Date:                Tue, 12 Aug 2014   Prob (F-statistic):               0.00\n",
        "Time:                        02:49:12   Log-Likelihood:                 2918.9\n",
        "No. Observations:                6756   AIC:                            -5830.\n",
        "Df Residuals:                    6752   BIC:                            -5802.\n",
        "Df Model:                           3                                         \n",
        "==============================================================================\n",
        "                 coef    std err          t      P>|t|      [95.0% Conf. Int.]\n",
        "------------------------------------------------------------------------------\n",
        "Intercept      4.2592      0.009    484.966      0.000         4.242     4.276\n",
        "RIDAGEYR       0.0050   9.04e-05     55.203      0.000         0.005     0.005\n",
        "RIAGENDR      -0.0507      0.004    -13.239      0.000        -0.058    -0.043\n",
        "BMXBMI         0.0036      0.000     13.714      0.000         0.003     0.004\n",
        "==============================================================================\n",
        "Omnibus:                      118.309   Durbin-Watson:                   2.020\n",
        "Prob(Omnibus):                  0.000   Jarque-Bera (JB):              209.720\n",
        "Skew:                           0.126   Prob(JB):                     2.88e-46\n",
        "Kurtosis:                       3.826   Cond. No.                         244.\n",
        "==============================================================================\n"
       ]
      }
     ],
     "prompt_number": 123
    },
    {
     "cell_type": "markdown",
     "metadata": {},
     "source": [
      "Here is a more complex model, adding ethnicity and an age x gender interaction.  The effects of age, gender, and BMI are not very different from what we had above in the basic model (the gender effect is somewhat stronger).  Since ethnicity is a categorical variable with 5 groups, we enclose it in `C()`, and it becomes coded in terms of 4 \"indicator variables\", each contrasting a given ethnic group relative to group 1 (Mexican American).  We see that only group 4 (non-Hispanic black) has a strongly different systolic blood pressure effect compared to the Mexican American subgroup.  Below we will show how to use different codings to enable different subgroup comparisons.  \n",
      "\n",
      "The gender x year interaction is positive, indicating that females have a faster increase of transformed systolic blood pressure with age compared to males (although they have a lower main effect)."
     ]
    },
    {
     "cell_type": "code",
     "collapsed": false,
     "input": [
      "fml = \"BPXSY1_tr ~ RIDAGEYR + RIAGENDR + C(RIDRETH1) + BMXBMI + RIDAGEYR*RIAGENDR\"\n",
      "mod = sm.OLS.from_formula(fml, nhanes)\n",
      "rslt = mod.fit()\n",
      "print rslt.summary()"
     ],
     "language": "python",
     "metadata": {},
     "outputs": [
      {
       "output_type": "stream",
       "stream": "stdout",
       "text": [
        "                            OLS Regression Results                            \n",
        "==============================================================================\n",
        "Dep. Variable:              BPXSY1_tr   R-squared:                       0.396\n",
        "Model:                            OLS   Adj. R-squared:                  0.396\n",
        "Method:                 Least Squares   F-statistic:                     554.0\n",
        "Date:                Tue, 12 Aug 2014   Prob (F-statistic):               0.00\n",
        "Time:                        02:49:12   Log-Likelihood:                 3002.6\n",
        "No. Observations:                6756   AIC:                            -5987.\n",
        "Df Residuals:                    6747   BIC:                            -5926.\n",
        "Df Model:                           8                                         \n",
        "=====================================================================================\n",
        "                        coef    std err          t      P>|t|      [95.0% Conf. Int.]\n",
        "-------------------------------------------------------------------------------------\n",
        "Intercept             4.3324      0.014    305.296      0.000         4.305     4.360\n",
        "C(RIDRETH1)[T.2]     -0.0011      0.008     -0.136      0.892        -0.017     0.015\n",
        "C(RIDRETH1)[T.3]      0.0002      0.006      0.033      0.974        -0.012     0.013\n",
        "C(RIDRETH1)[T.4]      0.0445      0.007      6.793      0.000         0.032     0.057\n",
        "C(RIDRETH1)[T.5]      0.0012      0.007      0.171      0.864        -0.013     0.015\n",
        "RIDAGEYR              0.0030      0.000     11.174      0.000         0.002     0.004\n",
        "RIAGENDR             -0.1032      0.008    -13.527      0.000        -0.118    -0.088\n",
        "BMXBMI                0.0032      0.000     12.334      0.000         0.003     0.004\n",
        "RIDAGEYR:RIAGENDR     0.0013      0.000      7.870      0.000         0.001     0.002\n",
        "==============================================================================\n",
        "Omnibus:                       95.591   Durbin-Watson:                   2.027\n",
        "Prob(Omnibus):                  0.000   Jarque-Bera (JB):              169.931\n",
        "Skew:                           0.073   Prob(JB):                     1.26e-37\n",
        "Kurtosis:                       3.763   Cond. No.                         742.\n",
        "==============================================================================\n"
       ]
      }
     ],
     "prompt_number": 124
    },
    {
     "cell_type": "markdown",
     "metadata": {},
     "source": [
      "Next we can fit the same regression model using a different coding of the ethnicity variable.  Note that this is exactly the same model as fit in the cell above, so goodness of fit measures like the R-squared will not change.  By using group 3 (non-Hispanic white) as the reference category, the effects of the other ethnic categories are interpreted as comparisons relative to that group.  For example, we see that group 4 (non-Hispanic black) has average blood pressure 0.0456 units greater than the non-Hispanic white group.  Note that this is while controlling for the effects of other variables included in the model, so even though the black ethnic group has higher mean BMI than the white ethnic group (see below), and BMI is itself a risk factor for high blood pressure, there a other factors associated with the black ethnic group that are independently associated with high systolic blood pressure.  "
     ]
    },
    {
     "cell_type": "code",
     "collapsed": false,
     "input": [
      "fml = \"BPXSY1_tr ~ RIDAGEYR + RIAGENDR + C(RIDRETH1, Treatment(reference=3)) + BMXBMI + RIDAGEYR*RIAGENDR\"\n",
      "mod = sm.OLS.from_formula(fml, nhanes)\n",
      "rslt = mod.fit()\n",
      "print rslt.summary()"
     ],
     "language": "python",
     "metadata": {},
     "outputs": [
      {
       "output_type": "stream",
       "stream": "stdout",
       "text": [
        "                            OLS Regression Results                            \n",
        "==============================================================================\n",
        "Dep. Variable:              BPXSY1_tr   R-squared:                       0.396\n",
        "Model:                            OLS   Adj. R-squared:                  0.396\n",
        "Method:                 Least Squares   F-statistic:                     554.0\n",
        "Date:                Tue, 12 Aug 2014   Prob (F-statistic):               0.00\n",
        "Time:                        02:49:13   Log-Likelihood:                 3002.6\n",
        "No. Observations:                6756   AIC:                            -5987.\n",
        "Df Residuals:                    6747   BIC:                            -5926.\n",
        "Df Model:                           8                                         \n",
        "============================================================================================================\n",
        "                                               coef    std err          t      P>|t|      [95.0% Conf. Int.]\n",
        "------------------------------------------------------------------------------------------------------------\n",
        "Intercept                                    4.3326      0.014    316.515      0.000         4.306     4.359\n",
        "C(RIDRETH1, Treatment(reference=3))[T.1]    -0.0002      0.006     -0.033      0.974        -0.013     0.012\n",
        "C(RIDRETH1, Treatment(reference=3))[T.2]    -0.0013      0.007     -0.194      0.846        -0.014     0.012\n",
        "C(RIDRETH1, Treatment(reference=3))[T.4]     0.0443      0.005      9.004      0.000         0.035     0.054\n",
        "C(RIDRETH1, Treatment(reference=3))[T.5]     0.0010      0.006      0.178      0.859        -0.010     0.012\n",
        "RIDAGEYR                                     0.0030      0.000     11.174      0.000         0.002     0.004\n",
        "RIAGENDR                                    -0.1032      0.008    -13.527      0.000        -0.118    -0.088\n",
        "BMXBMI                                       0.0032      0.000     12.334      0.000         0.003     0.004\n",
        "RIDAGEYR:RIAGENDR                            0.0013      0.000      7.870      0.000         0.001     0.002\n",
        "==============================================================================\n",
        "Omnibus:                       95.591   Durbin-Watson:                   2.027\n",
        "Prob(Omnibus):                  0.000   Jarque-Bera (JB):              169.931\n",
        "Skew:                           0.073   Prob(JB):                     1.26e-37\n",
        "Kurtosis:                       3.763   Cond. No.                         698.\n",
        "==============================================================================\n"
       ]
      }
     ],
     "prompt_number": 125
    },
    {
     "cell_type": "markdown",
     "metadata": {},
     "source": [
      "As noted above, the black ethnic group has higher mean BMI than the white ethnic group, but this does not explain all of the inreased blood pressure that is observed when comparing these two groups."
     ]
    },
    {
     "cell_type": "code",
     "collapsed": false,
     "input": [
      "nhanes.groupby(\"RIDRETH1\").agg({\"BMXBMI\": np.mean})"
     ],
     "language": "python",
     "metadata": {},
     "outputs": [
      {
       "html": [
        "<div style=\"max-height:1000px;max-width:1500px;overflow:auto;\">\n",
        "<table border=\"1\" class=\"dataframe\">\n",
        "  <thead>\n",
        "    <tr style=\"text-align: right;\">\n",
        "      <th></th>\n",
        "      <th>BMXBMI</th>\n",
        "    </tr>\n",
        "    <tr>\n",
        "      <th>RIDRETH1</th>\n",
        "      <th></th>\n",
        "    </tr>\n",
        "  </thead>\n",
        "  <tbody>\n",
        "    <tr>\n",
        "      <th>1</th>\n",
        "      <td> 25.845588</td>\n",
        "    </tr>\n",
        "    <tr>\n",
        "      <th>2</th>\n",
        "      <td> 26.456215</td>\n",
        "    </tr>\n",
        "    <tr>\n",
        "      <th>3</th>\n",
        "      <td> 26.427285</td>\n",
        "    </tr>\n",
        "    <tr>\n",
        "      <th>4</th>\n",
        "      <td> 27.412716</td>\n",
        "    </tr>\n",
        "    <tr>\n",
        "      <th>5</th>\n",
        "      <td> 23.376623</td>\n",
        "    </tr>\n",
        "  </tbody>\n",
        "</table>\n",
        "</div>"
       ],
       "metadata": {},
       "output_type": "pyout",
       "prompt_number": 126,
       "text": [
        "             BMXBMI\n",
        "RIDRETH1           \n",
        "1         25.845588\n",
        "2         26.456215\n",
        "3         26.427285\n",
        "4         27.412716\n",
        "5         23.376623"
       ]
      }
     ],
     "prompt_number": 126
    },
    {
     "cell_type": "markdown",
     "metadata": {},
     "source": [
      "Some people do not like to transform the dependent variable because it makes it harder to interpret the effects on their natural scale.  For example, blood pressure is measured in units of mm Hg (millimiters of mercury).  We can address this by constructing mean responses for two types of individuals that we want to compare, then transforming these mean responses back to the original scale.  For example, above we saw that on the transformed scale, an individual in the black ethnic group has 0.0443 units higher blood pressure than an individual in the white ethnic group, holding all other variables fixed.  To obtain a value on the original scale, we can construct the mean response for a black person who has the mean level of all the other covariates, and for a white person who also has the mean level of all the other covariates.  Then we can convert these two means to the original scale by inverting the transformation."
     ]
    },
    {
     "cell_type": "code",
     "collapsed": false,
     "input": [
      "black = nhanes.mean(0)\n",
      "black[\"RIDRETH1\"] = 4\n",
      "black = pd.DataFrame(black).T # overcomes Statsmodels bug\n",
      "white = nhanes.mean(0)\n",
      "white[\"RIDRETH1\"] = 3\n",
      "white = pd.DataFrame(white).T # overcomes Statsmodels bug\n",
      "\n",
      "black_lp = rslt.predict(exog=black)\n",
      "white_lp = rslt.predict(exog=white)\n",
      "\n",
      "E_black = np.exp(black_lp) + 30\n",
      "E_white = np.exp(white_lp) + 30\n",
      "\n",
      "print E_black\n",
      "print E_white\n",
      "print nhanes[\"BPXSY1\"].mean()"
     ],
     "language": "python",
     "metadata": {},
     "outputs": [
      {
       "output_type": "stream",
       "stream": "stdout",
       "text": [
        "[ 120.1990221]\n",
        "[ 116.28814237]\n",
        "119.169923031\n"
       ]
      }
     ],
     "prompt_number": 127
    }
   ],
   "metadata": {}
  }
 ]
}