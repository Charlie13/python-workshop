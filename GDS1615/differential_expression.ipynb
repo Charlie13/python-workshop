{
 "metadata": {
  "name": "",
  "signature": "sha256:4f584b0f487e0ef9c3b7b701418975620582bcf69d3782813be461373a7cf6a6"
 },
 "nbformat": 3,
 "nbformat_minor": 0,
 "worksheets": [
  {
   "cells": [
    {
     "cell_type": "markdown",
     "metadata": {},
     "source": [
      "Gene expression data analysis\n",
      "=============================\n",
      "\n",
      "This notebook demonstrates analysis of a gene expression data set.  The data set contains gene expression measurements on thousands of genes for subjects who have one of two gastrointestinal diseases -- ulcerative colitis and Crohn's disease.\n",
      "\n",
      "The data are available from the NCBI Gene Expression Omnibus (GEO) site, at the following link:\n",
      "\n",
      "http://www.ncbi.nlm.nih.gov/sites/GDSbrowser?acc=GDS1615"
     ]
    },
    {
     "cell_type": "markdown",
     "metadata": {},
     "source": [
      "First we import the libraries that we will be using."
     ]
    },
    {
     "cell_type": "code",
     "collapsed": false,
     "input": [
      "import gzip\n",
      "import numpy as np"
     ],
     "language": "python",
     "metadata": {},
     "outputs": [],
     "prompt_number": 1
    },
    {
     "cell_type": "markdown",
     "metadata": {},
     "source": [
      "### Reading the data\n",
      "\n",
      "The data are stored in a format called SOFT.  We will need to write a fair amount of code to extract the data.  First we open the file, which is gzipped."
     ]
    },
    {
     "cell_type": "code",
     "collapsed": false,
     "input": [
      "fname = \"GDS1615_full.soft.gz\"\n",
      "fid = gzip.open(fname)"
     ],
     "language": "python",
     "metadata": {},
     "outputs": [],
     "prompt_number": 2
    },
    {
     "cell_type": "markdown",
     "metadata": {},
     "source": [
      "Next we extract some information about the subjects from the upper part of the file.  The dictionary called `group` maps each subject's id to a string giving the disease group for that subject."
     ]
    },
    {
     "cell_type": "code",
     "collapsed": false,
     "input": [
      "dx = {}\n",
      "for line in fid:\n",
      "\n",
      "    if line.startswith(\"!dataset_table_begin\"):\n",
      "        break\n",
      "    elif line.startswith(\"!subset_description\"):\n",
      "        subset_description = line.split(\"=\")[1].strip()\n",
      "    elif line.startswith(\"!subset_sample_id\"):\n",
      "        subset_ids = line.split(\"=\")[1].split(\",\")\n",
      "        subset_ids = [x.strip() for x in subset_ids]\n",
      "        for k in subset_ids:\n",
      "            dx[k] = subset_description\n",
      "            \n",
      "print {k: dx[k] for k in dx.keys()[0:10]}"
     ],
     "language": "python",
     "metadata": {},
     "outputs": [
      {
       "output_type": "stream",
       "stream": "stdout",
       "text": [
        "{'GSM76041': 'ulcerative colitis', 'GSM76048': 'ulcerative colitis', 'GSM76049': 'ulcerative colitis', 'GSM76044': 'ulcerative colitis', 'GSM76045': 'ulcerative colitis', 'GSM76103': \"Crohn's disease\", 'GSM76047': 'ulcerative colitis', 'GSM76040': 'ulcerative colitis', 'GSM76046': 'ulcerative colitis', 'GSM76042': 'ulcerative colitis'}\n"
       ]
      }
     ],
     "prompt_number": 3
    },
    {
     "cell_type": "markdown",
     "metadata": {},
     "source": [
      "The next line in the file contains the column headers (sample id's), in the same order that the gene expression values are stored in the data table (to be read later)."
     ]
    },
    {
     "cell_type": "code",
     "collapsed": false,
     "input": [
      "subject_ids = fid.next().rstrip().split(\"\\t\")\n",
      "print subject_ids[0:10]"
     ],
     "language": "python",
     "metadata": {},
     "outputs": [
      {
       "output_type": "stream",
       "stream": "stdout",
       "text": [
        "['ID_REF', 'IDENTIFIER', 'GSM76115', 'GSM76116', 'GSM76117', 'GSM76118', 'GSM76119', 'GSM76120', 'GSM76121', 'GSM76122']\n"
       ]
      }
     ],
     "prompt_number": 4
    },
    {
     "cell_type": "markdown",
     "metadata": {},
     "source": [
      "The column labels that start with \"GSM\" contain gene expression data.  We want to have the indices of those columns so we can easily select them when reading the table."
     ]
    },
    {
     "cell_type": "code",
     "collapsed": false,
     "input": [
      "data_ix = [i for i,x in enumerate(subject_ids) if x.startswith(\"GSM\")]\n",
      "print data_ix[0:10]"
     ],
     "language": "python",
     "metadata": {},
     "outputs": [
      {
       "output_type": "stream",
       "stream": "stdout",
       "text": [
        "[2, 3, 4, 5, 6, 7, 8, 9, 10, 11]\n"
       ]
      }
     ],
     "prompt_number": 5
    },
    {
     "cell_type": "markdown",
     "metadata": {},
     "source": [
      "We restrict the column headers to those that correspond to gene expression data."
     ]
    },
    {
     "cell_type": "code",
     "collapsed": false,
     "input": [
      "subject_ids = [subject_ids[i] for i in data_ix]\n",
      "print subject_ids[0:10]"
     ],
     "language": "python",
     "metadata": {},
     "outputs": [
      {
       "output_type": "stream",
       "stream": "stdout",
       "text": [
        "['GSM76115', 'GSM76116', 'GSM76117', 'GSM76118', 'GSM76119', 'GSM76120', 'GSM76121', 'GSM76122', 'GSM76123', 'GSM76124']\n"
       ]
      }
     ],
     "prompt_number": 6
    },
    {
     "cell_type": "markdown",
     "metadata": {},
     "source": [
      "Next we construct a list containing the disease groups in the same order that the columns appear in the data file."
     ]
    },
    {
     "cell_type": "code",
     "collapsed": false,
     "input": [
      "dx_col = [dx[k] for k in subject_ids]\n",
      "print dx_col[0:10]"
     ],
     "language": "python",
     "metadata": {},
     "outputs": [
      {
       "output_type": "stream",
       "stream": "stdout",
       "text": [
        "['normal', 'normal', 'normal', 'normal', 'normal', 'normal', 'normal', 'normal', 'normal', 'normal']\n"
       ]
      }
     ],
     "prompt_number": 7
    },
    {
     "cell_type": "markdown",
     "metadata": {},
     "source": [
      "Next we read the gene expression data into a list of lists.  Each row in the gene expression data table contains the data for one gene.  We store the name of this gene in the list `gene_id`."
     ]
    },
    {
     "cell_type": "code",
     "collapsed": false,
     "input": [
      "gene_id, data = [], []\n",
      "for line in fid:\n",
      "\n",
      "    # This is what signals the end of the gene expression data\n",
      "    # section of the file\n",
      "    if line.startswith(\"!dataset_table_end\"):\n",
      "        break\n",
      "\n",
      "    v = line.rstrip().split(\"\\t\")\n",
      "\n",
      "    # Extract the values that correspond to gene expression measures\n",
      "    # and convert the strings to numbers\n",
      "    x = [float(v[i]) for i in data_ix]\n",
      "\n",
      "    data.append(x)\n",
      "    gene_id.append(v[0] + \";\" + v[1])"
     ],
     "language": "python",
     "metadata": {},
     "outputs": [],
     "prompt_number": 8
    },
    {
     "cell_type": "markdown",
     "metadata": {},
     "source": [
      "Now we can convert the Python list of lists to a Numpy array."
     ]
    },
    {
     "cell_type": "code",
     "collapsed": false,
     "input": [
      "data = np.array(data)\n",
      "print data[0:5, 0:3]"
     ],
     "language": "python",
     "metadata": {},
     "outputs": [
      {
       "output_type": "stream",
       "stream": "stdout",
       "text": [
        "[[  80.7287    62.9846    61.6711 ]\n",
        " [  25.9926    22.6722    24.4851 ]\n",
        " [  49.5371    70.3211    64.5038 ]\n",
        " [ 312.482    277.637    216.865  ]\n",
        " [   3.40176   20.033      8.08134]]\n"
       ]
      }
     ],
     "prompt_number": 9
    },
    {
     "cell_type": "markdown",
     "metadata": {},
     "source": [
      "These are the indices of samples for the ulcerative colitis group."
     ]
    },
    {
     "cell_type": "code",
     "collapsed": false,
     "input": [
      "uc_ix = [i for i,x in enumerate(dx_col) if x == \"ulcerative colitis\"]\n",
      "print len(uc_ix)\n",
      "print uc_ix[0:10]"
     ],
     "language": "python",
     "metadata": {},
     "outputs": [
      {
       "output_type": "stream",
       "stream": "stdout",
       "text": [
        "26\n",
        "[42, 43, 44, 45, 46, 47, 48, 49, 50, 51]\n"
       ]
      }
     ],
     "prompt_number": 10
    },
    {
     "cell_type": "markdown",
     "metadata": {},
     "source": [
      "These are the indices of samples in the Crohn's disease group."
     ]
    },
    {
     "cell_type": "code",
     "collapsed": false,
     "input": [
      "cd_ix = [i for i,x in enumerate(dx_col) if x == \"Crohn's disease\"]\n",
      "print len(cd_ix)\n",
      "print cd_ix[0:10]"
     ],
     "language": "python",
     "metadata": {},
     "outputs": [
      {
       "output_type": "stream",
       "stream": "stdout",
       "text": [
        "59\n",
        "[68, 69, 70, 71, 72, 73, 74, 75, 76, 77]\n"
       ]
      }
     ],
     "prompt_number": 11
    },
    {
     "cell_type": "markdown",
     "metadata": {},
     "source": [
      "## Differential expression analysis"
     ]
    },
    {
     "cell_type": "markdown",
     "metadata": {},
     "source": [
      "Gene expression data is usually analyzed on the log scale."
     ]
    },
    {
     "cell_type": "code",
     "collapsed": false,
     "input": [
      "data_l = np.log(data) / np.log(2)"
     ],
     "language": "python",
     "metadata": {},
     "outputs": [],
     "prompt_number": 12
    },
    {
     "cell_type": "markdown",
     "metadata": {},
     "source": [
      "We will compare the mean of each gene between the Crohn's disease and ulcerative colitis groups.  To do this, we will need the mean and the variance for each gene within each disease group."
     ]
    },
    {
     "cell_type": "code",
     "collapsed": false,
     "input": [
      "uc_m = data_l[:, uc_ix].mean(1) # Mean of ulcerative colitis samples\n",
      "cd_m = data_l[:, cd_ix].mean(1) # Mean of Crohn's disease samples\n",
      "uc_v = data_l[:, uc_ix].var(1)  # Variance of ulcerative colitis samples\n",
      "cd_v = data_l[:, cd_ix].var(1)  # Variance of Crohn's disease samples\n",
      "uc_n = len(uc_ix)               # Number of ulcerative colitis samples\n",
      "cd_n = len(cd_ix)               # Number of Crohn's disease samples"
     ],
     "language": "python",
     "metadata": {},
     "outputs": [],
     "prompt_number": 13
    },
    {
     "cell_type": "markdown",
     "metadata": {},
     "source": [
      "The Z-score is a statistic that compares the means between two groups.  If the true means are equal, then the Z-scores follow a standardized (zero mean, unit variance) distribution that is approximately Gaussian."
     ]
    },
    {
     "cell_type": "code",
     "collapsed": false,
     "input": [
      "zscore = (uc_m - cd_m) / np.sqrt(uc_v/uc_n + cd_v/cd_n)"
     ],
     "language": "python",
     "metadata": {},
     "outputs": [],
     "prompt_number": 14
    },
    {
     "cell_type": "markdown",
     "metadata": {},
     "source": [
      "We can get a rough sense of how strong the effects are by looking at the mean and standard deviation of the Z-scores.  Since the standard deviation is much greater than 1, there are many genes with different mean expression in the two groups."
     ]
    },
    {
     "cell_type": "code",
     "collapsed": false,
     "input": [
      "print zscore.mean()\n",
      "print zscore.std()"
     ],
     "language": "python",
     "metadata": {},
     "outputs": [
      {
       "output_type": "stream",
       "stream": "stdout",
       "text": [
        "0.174053802007\n",
        "1.50181311998\n"
       ]
      }
     ]
    },
    {
     "cell_type": "markdown",
     "metadata": {},
     "source": [
      "To get an overall picture of how strong the effects are, we can make a normal quantile plot of the Z-scores."
     ]
    },
    {
     "cell_type": "code",
     "collapsed": false,
     "input": [
      "import statsmodels.api as sm\n",
      "sm.qqplot(zscore, line='45')\n",
      "pass"
     ],
     "language": "python",
     "metadata": {},
     "outputs": []
    },
    {
     "cell_type": "markdown",
     "metadata": {},
     "source": [
      "Next we will calculate False Discovery Rates (FDR values) for each gene.  To do this, we fist need to convert the Z-scores to p-values."
     ]
    },
    {
     "cell_type": "code",
     "collapsed": false,
     "input": [
      "from scipy.stats.distributions import norm\n",
      "pvalues = 2*norm.cdf(-np.abs(zscore))"
     ],
     "language": "python",
     "metadata": {},
     "outputs": []
    },
    {
     "cell_type": "markdown",
     "metadata": {},
     "source": [
      "Next we calculate the FDR values, using the Benjamini-Hochberg approach."
     ]
    },
    {
     "cell_type": "code",
     "collapsed": false,
     "input": [
      "from statsmodels.sandbox.stats.multicomp import multipletests\n",
      "\n",
      "_, fdr, _, _ = multipletests(pvalues, method='fdr_bh')\n",
      "\n",
      "ii = np.argsort(fdr)\n",
      "fdr_s = fdr[ii]\n",
      "pvalues_s = pvalues[ii]"
     ],
     "language": "python",
     "metadata": {},
     "outputs": []
    },
    {
     "cell_type": "markdown",
     "metadata": {},
     "source": [
      "FDR values are not directly comparable to p-values, except to the extent that they are both probabilities.  The FDR values tend to be larger than the p-values."
     ]
    },
    {
     "cell_type": "code",
     "collapsed": false,
     "input": [
      "plt.plot(pvalues_s, fdr_s, '-')\n",
      "plt.grid(True)\n",
      "plt.xlabel(\"p-values\", size=15)\n",
      "plt.ylabel(\"FDR\", size=15)"
     ],
     "language": "python",
     "metadata": {},
     "outputs": []
    },
    {
     "cell_type": "markdown",
     "metadata": {},
     "source": [
      "Here we zoom in a bit on the region of the plot where the small p-values and FDR values are located."
     ]
    },
    {
     "cell_type": "code",
     "collapsed": false,
     "input": [
      "plt.plot(pvalues_s, fdr_s, '-')\n",
      "plt.grid(True)\n",
      "plt.xlim(0, 0.05)\n",
      "plt.ylim(0, 0.3)\n",
      "plt.xlabel(\"p-values\", size=15)\n",
      "plt.ylabel(\"FDR\", size=15)"
     ],
     "language": "python",
     "metadata": {},
     "outputs": []
    },
    {
     "cell_type": "markdown",
     "metadata": {},
     "source": [
      "The following plot shows the sorted FDR values.  Out of >20,000 genes, it appears that around 2,000 have strong evidence of differential expression (FDR < 0.1)."
     ]
    },
    {
     "cell_type": "code",
     "collapsed": false,
     "input": [
      "plt.plot(fdr_s)\n",
      "plt.xlabel(\"Ordered position\", size=15)\n",
      "plt.ylabel(\"FDR\", size=15)"
     ],
     "language": "python",
     "metadata": {},
     "outputs": []
    },
    {
     "cell_type": "markdown",
     "metadata": {},
     "source": [
      "To get a better sense of how strong the differential expression is, we can make boxplots of the two groups for genes with different FDR values."
     ]
    },
    {
     "cell_type": "code",
     "collapsed": false,
     "input": [
      "for f in [0.0001, 0.001, 0.01, 0.1, 0.5, 1.0]:\n",
      "    ii = np.argmin(np.abs(fdr - f))\n",
      "    plt.figure()\n",
      "    plt.boxplot((data_l[ii, uc_ix], data_l[ii, cd_ix]))\n",
      "    plt.gca().set_xticklabels((\"UC\", \"CD\"), (1, 2), size=15)\n",
      "    plt.ylabel(\"Gene expression\", size=15)\n",
      "    plt.title(\"%s (FDR=%.4f, p=%.4f)\" % (gene_id[ii], fdr[ii], pvalues[ii]))"
     ],
     "language": "python",
     "metadata": {},
     "outputs": []
    }
   ],
   "metadata": {}
  }
 ]
}