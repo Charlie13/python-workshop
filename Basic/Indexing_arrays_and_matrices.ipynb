{
 "metadata": {
  "name": "",
  "signature": "sha256:f3e13a5ecdf1a1ab1bb333edee53d0254735cf9ae746bbe8aac8536f72a96c2a"
 },
 "nbformat": 3,
 "nbformat_minor": 0,
 "worksheets": [
  {
   "cells": [
    {
     "cell_type": "markdown",
     "metadata": {},
     "source": [
      "Indexing and slicing data structures\n",
      "====================================\n",
      "\n",
      "When working with data in Python, you will be using data structures from core Python as well as from several different libraries (especially Numpy and Pandas).  Indexing and slicing operations for these data structures is fairly straightforward, but there are a few quirks to be aware of.  This notebook provides a brief overview of indexing and slicing for core Python lists and dictionaries, Numpy \"ndarrays\", and Pandas \"Series\" and \"DataFrame\" objects."
     ]
    },
    {
     "cell_type": "code",
     "collapsed": false,
     "input": [
      "import numpy as np\n",
      "import pandas as pd"
     ],
     "language": "python",
     "metadata": {},
     "outputs": [],
     "prompt_number": 1
    },
    {
     "cell_type": "markdown",
     "metadata": {},
     "source": [
      "### One-dimensional data structures"
     ]
    },
    {
     "cell_type": "markdown",
     "metadata": {},
     "source": [
      "Here is a core Python list.  These lists only allow position-based indexing."
     ]
    },
    {
     "cell_type": "code",
     "collapsed": false,
     "input": [
      "x = [1, 3, 2]\n",
      "print x[1]"
     ],
     "language": "python",
     "metadata": {},
     "outputs": [
      {
       "output_type": "stream",
       "stream": "stdout",
       "text": [
        "3\n"
       ]
      }
     ],
     "prompt_number": 2
    },
    {
     "cell_type": "markdown",
     "metadata": {},
     "source": [
      "Here is a core Python dictionary.  Dictionaries only allow label-based indexing (the labels are called \"keys\" in this setting)."
     ]
    },
    {
     "cell_type": "code",
     "collapsed": false,
     "input": [
      "x = {\"a\": 25, \"b\": -1, \"c\": 0}\n",
      "print x[\"b\"]"
     ],
     "language": "python",
     "metadata": {},
     "outputs": [
      {
       "output_type": "stream",
       "stream": "stdout",
       "text": [
        "-1\n"
       ]
      }
     ],
     "prompt_number": 3
    },
    {
     "cell_type": "markdown",
     "metadata": {},
     "source": [
      "Here is a Pandas `Series` (a one-dimensional homogeneous data structure)."
     ]
    },
    {
     "cell_type": "code",
     "collapsed": false,
     "input": [
      "x = pd.Series([3, 1, 7, 99, 0], [\"a\", \"b\", \"c\", \"d\", \"e\"])\n",
      "print x"
     ],
     "language": "python",
     "metadata": {},
     "outputs": [
      {
       "output_type": "stream",
       "stream": "stdout",
       "text": [
        "a     3\n",
        "b     1\n",
        "c     7\n",
        "d    99\n",
        "e     0\n",
        "dtype: int64\n"
       ]
      }
     ],
     "prompt_number": 4
    },
    {
     "cell_type": "markdown",
     "metadata": {},
     "source": [
      "Pandas Series allow both position-based indexing (with `iloc`) and label-based indexing (with `loc`)."
     ]
    },
    {
     "cell_type": "code",
     "collapsed": false,
     "input": [
      "print x[\"b\"]\n",
      "print x.loc[\"b\"]\n",
      "print x.iloc[1]\n",
      "print x.iloc[-2]"
     ],
     "language": "python",
     "metadata": {},
     "outputs": [
      {
       "output_type": "stream",
       "stream": "stdout",
       "text": [
        "1\n",
        "1\n",
        "1\n",
        "99\n"
       ]
      }
     ],
     "prompt_number": 5
    },
    {
     "cell_type": "markdown",
     "metadata": {},
     "source": [
      "Another Pandas Series:"
     ]
    },
    {
     "cell_type": "code",
     "collapsed": false,
     "input": [
      "y = pd.Series([5, 13, 7], [\"b\", \"e\", \"f\"])\n",
      "print y"
     ],
     "language": "python",
     "metadata": {},
     "outputs": [
      {
       "output_type": "stream",
       "stream": "stdout",
       "text": [
        "b     5\n",
        "e    13\n",
        "f     7\n",
        "dtype: int64\n"
       ]
      }
     ],
     "prompt_number": 6
    },
    {
     "cell_type": "markdown",
     "metadata": {},
     "source": [
      "Two Series can be added (and subtracted, etc.):"
     ]
    },
    {
     "cell_type": "code",
     "collapsed": false,
     "input": [
      "print x + y"
     ],
     "language": "python",
     "metadata": {},
     "outputs": [
      {
       "output_type": "stream",
       "stream": "stdout",
       "text": [
        "a   NaN\n",
        "b     6\n",
        "c   NaN\n",
        "d   NaN\n",
        "e    13\n",
        "f   NaN\n",
        "dtype: float64\n"
       ]
      }
     ],
     "prompt_number": 7
    },
    {
     "cell_type": "markdown",
     "metadata": {},
     "source": [
      "Here is a Numpy `ndarray`.  These are homogeneous data structures that allow only position-based indexing."
     ]
    },
    {
     "cell_type": "code",
     "collapsed": false,
     "input": [
      "x = np.array([4, 2, 8, 5, 6, 1])\n",
      "print x[2]\n",
      "print x[-1]"
     ],
     "language": "python",
     "metadata": {},
     "outputs": [
      {
       "output_type": "stream",
       "stream": "stdout",
       "text": [
        "8\n",
        "1\n"
       ]
      }
     ],
     "prompt_number": 8
    },
    {
     "cell_type": "markdown",
     "metadata": {},
     "source": [
      "Here we take a position-based slice of a Numpy `ndarray`.  Note that the end point is not included in the slice."
     ]
    },
    {
     "cell_type": "code",
     "collapsed": false,
     "input": [
      "print x[2:4]"
     ],
     "language": "python",
     "metadata": {},
     "outputs": [
      {
       "output_type": "stream",
       "stream": "stdout",
       "text": [
        "[8 5]\n"
       ]
      }
     ],
     "prompt_number": 9
    },
    {
     "cell_type": "markdown",
     "metadata": {},
     "source": [
      "Here is how we do position-based slicing for a Pandas `Series` (note that the end point of the range is not included in the slice):"
     ]
    },
    {
     "cell_type": "code",
     "collapsed": false,
     "input": [
      "x = pd.Series([5, 2, 3, 1, 4], index=[\"a\", \"b\", \"c\", \"d\", \"e\"])\n",
      "print x.iloc[1:3]"
     ],
     "language": "python",
     "metadata": {},
     "outputs": [
      {
       "output_type": "stream",
       "stream": "stdout",
       "text": [
        "b    2\n",
        "c    3\n",
        "dtype: int64\n"
       ]
      }
     ],
     "prompt_number": 10
    },
    {
     "cell_type": "markdown",
     "metadata": {},
     "source": [
      "Here is how we do label-based slicing for a Pandas Series.  Note that the end point of the range is included in the slice."
     ]
    },
    {
     "cell_type": "code",
     "collapsed": false,
     "input": [
      "print x.loc[\"b\":\"d\"]"
     ],
     "language": "python",
     "metadata": {},
     "outputs": [
      {
       "output_type": "stream",
       "stream": "stdout",
       "text": [
        "b    2\n",
        "c    3\n",
        "d    1\n",
        "dtype: int64\n"
       ]
      }
     ],
     "prompt_number": 11
    },
    {
     "cell_type": "markdown",
     "metadata": {},
     "source": [
      "### Two-dimensional data structures"
     ]
    },
    {
     "cell_type": "markdown",
     "metadata": {},
     "source": [
      "You can create a two-dimensional core Python \"list\" by nesting two one-dimensional lists:"
     ]
    },
    {
     "cell_type": "code",
     "collapsed": false,
     "input": [
      "x = [[1, 3], [5, 2]]\n",
      "print x"
     ],
     "language": "python",
     "metadata": {},
     "outputs": [
      {
       "output_type": "stream",
       "stream": "stdout",
       "text": [
        "[[1, 3], [5, 2]]\n"
       ]
      }
     ],
     "prompt_number": 12
    },
    {
     "cell_type": "markdown",
     "metadata": {},
     "source": [
      "The two-dimensional data structure in Pandas is called a `DataFrame`. "
     ]
    },
    {
     "cell_type": "code",
     "collapsed": false,
     "input": [
      "x = pd.DataFrame([[1, 3], [5, 8], [2, 1]], columns=[\"a\", \"b\"], index=[\"row1\", \"row2\", \"row3\"])\n",
      "print x"
     ],
     "language": "python",
     "metadata": {},
     "outputs": [
      {
       "output_type": "stream",
       "stream": "stdout",
       "text": [
        "      a  b\n",
        "row1  1  3\n",
        "row2  5  8\n",
        "row3  2  1\n"
       ]
      }
     ],
     "prompt_number": 13
    },
    {
     "cell_type": "markdown",
     "metadata": {},
     "source": [
      "Here is how we do label-based indexing of a `DataFrame` object."
     ]
    },
    {
     "cell_type": "code",
     "collapsed": false,
     "input": [
      "x.loc[\"row1\", \"b\"]"
     ],
     "language": "python",
     "metadata": {},
     "outputs": [
      {
       "metadata": {},
       "output_type": "pyout",
       "prompt_number": 14,
       "text": [
        "3"
       ]
      }
     ],
     "prompt_number": 14
    },
    {
     "cell_type": "markdown",
     "metadata": {},
     "source": [
      "Here is how we do position-based indexing of a `DataFrame` object."
     ]
    },
    {
     "cell_type": "code",
     "collapsed": false,
     "input": [
      "x.iloc[0, 1]"
     ],
     "language": "python",
     "metadata": {},
     "outputs": [
      {
       "metadata": {},
       "output_type": "pyout",
       "prompt_number": 15,
       "text": [
        "3"
       ]
      }
     ],
     "prompt_number": 15
    },
    {
     "cell_type": "markdown",
     "metadata": {},
     "source": [
      "Mixing label-based and position-based indexing is a bit trickier."
     ]
    },
    {
     "cell_type": "code",
     "collapsed": false,
     "input": [
      "x.loc[\"row1\", :].iloc[1]"
     ],
     "language": "python",
     "metadata": {},
     "outputs": [
      {
       "metadata": {},
       "output_type": "pyout",
       "prompt_number": 16,
       "text": [
        "3"
       ]
      }
     ],
     "prompt_number": 16
    },
    {
     "cell_type": "markdown",
     "metadata": {},
     "source": [
      "Here is how we do label-based slicing with a `DataFrame`:"
     ]
    },
    {
     "cell_type": "code",
     "collapsed": false,
     "input": [
      "print x.loc[\"row1\", :], \"\\n\"\n",
      "print x.loc[:, \"b\"]"
     ],
     "language": "python",
     "metadata": {},
     "outputs": [
      {
       "output_type": "stream",
       "stream": "stdout",
       "text": [
        "a    1\n",
        "b    3\n",
        "Name: row1, dtype: int64 \n",
        "\n",
        "row1    3\n",
        "row2    8\n",
        "row3    1\n",
        "Name: b, dtype: int64\n"
       ]
      }
     ],
     "prompt_number": 17
    },
    {
     "cell_type": "markdown",
     "metadata": {},
     "source": [
      "Note that these slices are `Series` objects."
     ]
    },
    {
     "cell_type": "code",
     "collapsed": false,
     "input": [
      "type(x.loc[\"row1\", :])"
     ],
     "language": "python",
     "metadata": {},
     "outputs": [
      {
       "metadata": {},
       "output_type": "pyout",
       "prompt_number": 18,
       "text": [
        "pandas.core.series.Series"
       ]
      }
     ],
     "prompt_number": 18
    },
    {
     "cell_type": "markdown",
     "metadata": {},
     "source": [
      "Here is how we do position-based slicing with a `DataFrame`:"
     ]
    },
    {
     "cell_type": "code",
     "collapsed": false,
     "input": [
      "print x.iloc[1, :], \"\\n\"\n",
      "print x.iloc[:, 0]"
     ],
     "language": "python",
     "metadata": {},
     "outputs": [
      {
       "output_type": "stream",
       "stream": "stdout",
       "text": [
        "a    5\n",
        "b    8\n",
        "Name: row2, dtype: int64 \n",
        "\n",
        "row1    1\n",
        "row2    5\n",
        "row3    2\n",
        "Name: a, dtype: int64\n"
       ]
      }
     ],
     "prompt_number": 19
    },
    {
     "cell_type": "markdown",
     "metadata": {},
     "source": [
      "Here is how we do position-based slicing on two axes with a `DataFrame`:"
     ]
    },
    {
     "cell_type": "code",
     "collapsed": false,
     "input": [
      "print x.iloc[0:2, :], \"\\n\"\n",
      "print x.iloc[:, 0:2], \"\\n\"\n",
      "print x.iloc[[0,2], :], \"\\n\"\n",
      "print x.iloc[[True, False, True], :]"
     ],
     "language": "python",
     "metadata": {},
     "outputs": [
      {
       "output_type": "stream",
       "stream": "stdout",
       "text": [
        "      a  b\n",
        "row1  1  3\n",
        "row2  5  8 \n",
        "\n",
        "      a  b\n",
        "row1  1  3\n",
        "row2  5  8\n",
        "row3  2  1 \n",
        "\n",
        "      a  b\n",
        "row1  1  3\n",
        "row3  2  1 \n",
        "\n",
        "      a  b\n",
        "row1  1  3\n",
        "row3  2  1\n"
       ]
      }
     ],
     "prompt_number": 20
    },
    {
     "cell_type": "markdown",
     "metadata": {},
     "source": [
      "A Numpy `ndarray` can be two-dimensional:"
     ]
    },
    {
     "cell_type": "code",
     "collapsed": false,
     "input": [
      "x = np.array([[1, 4], [-5, 3], [3, 4]])\n",
      "print x"
     ],
     "language": "python",
     "metadata": {},
     "outputs": [
      {
       "output_type": "stream",
       "stream": "stdout",
       "text": [
        "[[ 1  4]\n",
        " [-5  3]\n",
        " [ 3  4]]\n"
       ]
      }
     ],
     "prompt_number": 21
    },
    {
     "cell_type": "markdown",
     "metadata": {},
     "source": [
      "Here is how we do position-based indexing and slicing with a two-dimensional `ndarray`:"
     ]
    },
    {
     "cell_type": "code",
     "collapsed": false,
     "input": [
      "print x[0, 1], \"\\n\"\n",
      "print x[1, :], \"\\n\"\n",
      "print x[:, 1], \"\\n\"\n",
      "print x[[0, 2], :], \"\\n\"\n",
      "print x[:, [False, True]], \"\\n\"\n",
      "print x[-1, :]"
     ],
     "language": "python",
     "metadata": {},
     "outputs": [
      {
       "output_type": "stream",
       "stream": "stdout",
       "text": [
        "4 \n",
        "\n",
        "[-5  3] \n",
        "\n",
        "[4 3 4] \n",
        "\n",
        "[[1 4]\n",
        " [3 4]] \n",
        "\n",
        "[[ 1  4]\n",
        " [-5  3]\n",
        " [ 3  4]] \n",
        "\n",
        "[3 4]\n"
       ]
      }
     ],
     "prompt_number": 22
    },
    {
     "cell_type": "markdown",
     "metadata": {},
     "source": [
      "### Shortcuts\n",
      "\n",
      "The safest and fastest way to index a Pandas data structure is using `loc` (for label-based indexing) and `iloc` for position-based indexing.  Next we look at some shortcuts that can also be used."
     ]
    },
    {
     "cell_type": "code",
     "collapsed": false,
     "input": [
      "x = pd.DataFrame([[1,3], [2,0], [1,1]], index=(\"a\", \"b\", \"c\"), columns=(\"v1\", \"v2\"))\n",
      "print x"
     ],
     "language": "python",
     "metadata": {},
     "outputs": [
      {
       "output_type": "stream",
       "stream": "stdout",
       "text": [
        "   v1  v2\n",
        "a   1   3\n",
        "b   2   0\n",
        "c   1   1\n"
       ]
      }
     ],
     "prompt_number": 23
    },
    {
     "cell_type": "markdown",
     "metadata": {},
     "source": [
      "Here are four ways to access a column of a Pandas `DataFrame`:"
     ]
    },
    {
     "cell_type": "code",
     "collapsed": false,
     "input": [
      "print x.loc[:,\"v1\"], \"\\n\"\n",
      "print x[\"v1\"], \"\\n\"\n",
      "print x.v1"
     ],
     "language": "python",
     "metadata": {},
     "outputs": [
      {
       "output_type": "stream",
       "stream": "stdout",
       "text": [
        "a    1\n",
        "b    2\n",
        "c    1\n",
        "Name: v1, dtype: int64 \n",
        "\n",
        "a    1\n",
        "b    2\n",
        "c    1\n",
        "Name: v1, dtype: int64 \n",
        "\n",
        "a    1\n",
        "b    2\n",
        "c    1\n",
        "Name: v1, dtype: int64\n"
       ]
      }
     ],
     "prompt_number": 24
    },
    {
     "cell_type": "markdown",
     "metadata": {},
     "source": [
      "Here are two ways to access a row of a Pandas `DataFrame`."
     ]
    },
    {
     "cell_type": "code",
     "collapsed": false,
     "input": [
      "print x.loc[\"a\", :], \"\\n\"\n",
      "print x.loc[\"a\"]"
     ],
     "language": "python",
     "metadata": {},
     "outputs": [
      {
       "output_type": "stream",
       "stream": "stdout",
       "text": [
        "v1    1\n",
        "v2    3\n",
        "Name: a, dtype: int64 \n",
        "\n",
        "v1    1\n",
        "v2    3\n",
        "Name: a, dtype: int64\n"
       ]
      }
     ],
     "prompt_number": 25
    },
    {
     "cell_type": "markdown",
     "metadata": {},
     "source": [
      "### Data types\n",
      "\n",
      "Core Python lists and dictionaries are heterogeneous containers, meaning they can hold values of any combination of types:"
     ]
    },
    {
     "cell_type": "code",
     "collapsed": false,
     "input": [
      "x = [3, 9., \"apple\"]\n",
      "print type(x)\n",
      "print type(x[0])\n",
      "print type(x[1])\n",
      "print type(x[2])"
     ],
     "language": "python",
     "metadata": {},
     "outputs": [
      {
       "output_type": "stream",
       "stream": "stdout",
       "text": [
        "<type 'list'>\n",
        "<type 'int'>\n",
        "<type 'float'>\n",
        "<type 'str'>\n"
       ]
      }
     ],
     "prompt_number": 26
    },
    {
     "cell_type": "markdown",
     "metadata": {},
     "source": [
      "Numpy `ndarray` and Pandas data structures are all homogeneous and hence have a single type (the type can be 'object' which simulates the behavior of a heterogeneous container, but we won't get into that here).  Here is how you specify and discover the data type for a numpy `ndarray`.  Pandas `Series` and `DataFrame` objects have exactly the same behavior. "
     ]
    },
    {
     "cell_type": "code",
     "collapsed": false,
     "input": [
      "w = np.array([3, 2, 1], dtype=np.int32)\n",
      "x = np.array([3.5, 2, 1], dtype=np.float64)\n",
      "y = np.array([5, 2, 3])\n",
      "z = np.array([5., 2, 3])\n",
      "print w.dtype\n",
      "print x.dtype\n",
      "print y.dtype\n",
      "print z.dtype"
     ],
     "language": "python",
     "metadata": {},
     "outputs": [
      {
       "output_type": "stream",
       "stream": "stdout",
       "text": [
        "int32\n",
        "float64\n",
        "int64\n",
        "float64\n"
       ]
      }
     ],
     "prompt_number": 27
    },
    {
     "cell_type": "markdown",
     "metadata": {},
     "source": [
      "### Data structure types, conversions, and introspection"
     ]
    },
    {
     "cell_type": "markdown",
     "metadata": {},
     "source": [
      "Here we create an `ndarray` from a core Python list:"
     ]
    },
    {
     "cell_type": "code",
     "collapsed": false,
     "input": [
      "w =  [3, 5, 2]\n",
      "x = np.array(w)\n",
      "y = np.asarray(w) # Tries to avoid copying the data.\n",
      "z = np.array(w, dtype=np.float64)"
     ],
     "language": "python",
     "metadata": {},
     "outputs": [],
     "prompt_number": 28
    },
    {
     "cell_type": "markdown",
     "metadata": {},
     "source": [
      "Here we create a `DataFrame` from a `ndarray`, note the default indices:"
     ]
    },
    {
     "cell_type": "code",
     "collapsed": false,
     "input": [
      "x = np.array([[3, 2, 1, 6, 5], [3, 2, 7, 6, 6]])\n",
      "y = pd.DataFrame(x)\n",
      "print y"
     ],
     "language": "python",
     "metadata": {},
     "outputs": [
      {
       "output_type": "stream",
       "stream": "stdout",
       "text": [
        "   0  1  2  3  4\n",
        "0  3  2  1  6  5\n",
        "1  3  2  7  6  6\n"
       ]
      }
     ],
     "prompt_number": 29
    },
    {
     "cell_type": "markdown",
     "metadata": {},
     "source": [
      "You can also use `np.asarray` to convert a `DataFrame` or `Series` to an `ndarray`."
     ]
    },
    {
     "cell_type": "code",
     "collapsed": false,
     "input": [
      "np.asarray(y)"
     ],
     "language": "python",
     "metadata": {},
     "outputs": [
      {
       "metadata": {},
       "output_type": "pyout",
       "prompt_number": 30,
       "text": [
        "array([[3, 2, 1, 6, 5],\n",
        "       [3, 2, 7, 6, 6]])"
       ]
      }
     ],
     "prompt_number": 30
    },
    {
     "cell_type": "markdown",
     "metadata": {},
     "source": [
      "The `dir` function produces all the methods that can be invoked on an object.  Methods whose names begin and end with two underscores are considered private."
     ]
    },
    {
     "cell_type": "code",
     "collapsed": false,
     "input": [
      "print dir(z)"
     ],
     "language": "python",
     "metadata": {},
     "outputs": [
      {
       "output_type": "stream",
       "stream": "stdout",
       "text": [
        "['T', '__abs__', '__add__', '__and__', '__array__', '__array_finalize__', '__array_interface__', '__array_prepare__', '__array_priority__', '__array_struct__', '__array_wrap__', '__class__', '__contains__', '__copy__', '__deepcopy__', '__delattr__', '__delitem__', '__delslice__', '__div__', '__divmod__', '__doc__', '__eq__', '__float__', '__floordiv__', '__format__', '__ge__', '__getattribute__', '__getitem__', '__getslice__', '__gt__', '__hash__', '__hex__', '__iadd__', '__iand__', '__idiv__', '__ifloordiv__', '__ilshift__', '__imod__', '__imul__', '__index__', '__init__', '__int__', '__invert__', '__ior__', '__ipow__', '__irshift__', '__isub__', '__iter__', '__itruediv__', '__ixor__', '__le__', '__len__', '__long__', '__lshift__', '__lt__', '__mod__', '__mul__', '__ne__', '__neg__', '__new__', '__nonzero__', '__oct__', '__or__', '__pos__', '__pow__', '__radd__', '__rand__', '__rdiv__', '__rdivmod__', '__reduce__', '__reduce_ex__', '__repr__', '__rfloordiv__', '__rlshift__', '__rmod__', '__rmul__', '__ror__', '__rpow__', '__rrshift__', '__rshift__', '__rsub__', '__rtruediv__', '__rxor__', '__setattr__', '__setitem__', '__setslice__', '__setstate__', '__sizeof__', '__str__', '__sub__', '__subclasshook__', '__truediv__', '__xor__', 'all', 'any', 'argmax', 'argmin', 'argpartition', 'argsort', 'astype', 'base', 'byteswap', 'choose', 'clip', 'compress', 'conj', 'conjugate', 'copy', 'ctypes', 'cumprod', 'cumsum', 'data', 'diagonal', 'dot', 'dtype', 'dump', 'dumps', 'fill', 'flags', 'flat', 'flatten', 'getfield', 'imag', 'item', 'itemset', 'itemsize', 'max', 'mean', 'min', 'nbytes', 'ndim', 'newbyteorder', 'nonzero', 'partition', 'prod', 'ptp', 'put', 'ravel', 'real', 'repeat', 'reshape', 'resize', 'round', 'searchsorted', 'setfield', 'setflags', 'shape', 'size', 'sort', 'squeeze', 'std', 'strides', 'sum', 'swapaxes', 'take', 'tofile', 'tolist', 'tostring', 'trace', 'transpose', 'var', 'view']\n"
       ]
      }
     ],
     "prompt_number": 31
    },
    {
     "cell_type": "markdown",
     "metadata": {},
     "source": [
      "Now we can get the docstring for a specific method:"
     ]
    },
    {
     "cell_type": "code",
     "collapsed": false,
     "input": [
      "help(z.trace)"
     ],
     "language": "python",
     "metadata": {},
     "outputs": [
      {
       "output_type": "stream",
       "stream": "stdout",
       "text": [
        "Help on built-in function trace:\n",
        "\n",
        "trace(...)\n",
        "    a.trace(offset=0, axis1=0, axis2=1, dtype=None, out=None)\n",
        "    \n",
        "    Return the sum along diagonals of the array.\n",
        "    \n",
        "    Refer to `numpy.trace` for full documentation.\n",
        "    \n",
        "    See Also\n",
        "    --------\n",
        "    numpy.trace : equivalent function\n",
        "\n"
       ]
      }
     ],
     "prompt_number": 32
    },
    {
     "cell_type": "markdown",
     "metadata": {},
     "source": [
      "### Reference behavior\n",
      "\n",
      "When you slice an array, you are often getting a reference to the array that you sliced from.  This means that if you change the slice, you also are changing the value in the array that it was sliced from.  To illustrate this, let's first create an array and get a slice from it."
     ]
    },
    {
     "cell_type": "code",
     "collapsed": false,
     "input": [
      "x = np.array([[1, 4], [3,2], [5,6]])\n",
      "y = x[1, :]\n",
      "print x, \"\\n\"\n",
      "print y       "
     ],
     "language": "python",
     "metadata": {},
     "outputs": [
      {
       "output_type": "stream",
       "stream": "stdout",
       "text": [
        "[[1 4]\n",
        " [3 2]\n",
        " [5 6]] \n",
        "\n",
        "[3 2]\n"
       ]
      }
     ],
     "prompt_number": 33
    },
    {
     "cell_type": "markdown",
     "metadata": {},
     "source": [
      "Now we change a value in the slice, and check the state of the parent array (x):"
     ]
    },
    {
     "cell_type": "code",
     "collapsed": false,
     "input": [
      "y[1] = 88\n",
      "print y, \"\\n\"\n",
      "print x"
     ],
     "language": "python",
     "metadata": {},
     "outputs": [
      {
       "output_type": "stream",
       "stream": "stdout",
       "text": [
        "[ 3 88] \n",
        "\n",
        "[[ 1  4]\n",
        " [ 3 88]\n",
        " [ 5  6]]\n"
       ]
      }
     ],
     "prompt_number": 34
    },
    {
     "cell_type": "markdown",
     "metadata": {},
     "source": [
      "If you want to avoid this behavior, create a copy."
     ]
    },
    {
     "cell_type": "code",
     "collapsed": false,
     "input": [
      "y = x[1, :].copy()"
     ],
     "language": "python",
     "metadata": {},
     "outputs": [],
     "prompt_number": 35
    }
   ],
   "metadata": {}
  }
 ]
}