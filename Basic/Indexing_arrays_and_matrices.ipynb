{
 "metadata": {
  "name": "",
  "signature": "sha256:de68f2edaa843dfd336b7d66b02ccb5a95a06e91477532ff3ba0caaaf6e74342"
 },
 "nbformat": 3,
 "nbformat_minor": 0,
 "worksheets": [
  {
   "cells": [
    {
     "cell_type": "markdown",
     "metadata": {},
     "source": [
      "Indexing and slicing\n",
      "====================\n",
      "\n",
      "When working with data in Python, you will be using data structures from core Python as well as from several different libraries (especially Numpy and Pandas).  Indexing and slicing operations for these data structures are similar, but there are a few quirks to be aware of.  This notebook provides a brief overview of indexing and slicing for core Python lists and dictionaries, Numpy \"ndarrays\", and Pandas \"Series\" and \"DataFrame\" objects."
     ]
    },
    {
     "cell_type": "code",
     "collapsed": false,
     "input": [
      "import numpy as np\n",
      "import pandas as pd"
     ],
     "language": "python",
     "metadata": {},
     "outputs": []
    },
    {
     "cell_type": "markdown",
     "metadata": {},
     "source": [
      "### One-dimensional data structures"
     ]
    },
    {
     "cell_type": "markdown",
     "metadata": {},
     "source": [
      "Here is a core Python list.  These lists only allow position-based indexing."
     ]
    },
    {
     "cell_type": "code",
     "collapsed": false,
     "input": [
      "x = [1, 3, 2]\n",
      "print x[1]"
     ],
     "language": "python",
     "metadata": {},
     "outputs": []
    },
    {
     "cell_type": "markdown",
     "metadata": {},
     "source": [
      "Here is a core Python dictionary.  Dictionaries only allow label-based indexing (the labels are called \"keys\" in this setting)."
     ]
    },
    {
     "cell_type": "code",
     "collapsed": false,
     "input": [
      "x = {\"a\": 25, \"b\": -1, \"c\": 0}\n",
      "print x[\"b\"]"
     ],
     "language": "python",
     "metadata": {},
     "outputs": []
    },
    {
     "cell_type": "markdown",
     "metadata": {},
     "source": [
      "Here is a Pandas `Series` (a one-dimensional homogeneous data structure).  Pandas Series allow both position-based indexing (with `iloc`) and label-based indexing (with `loc`)."
     ]
    },
    {
     "cell_type": "code",
     "collapsed": false,
     "input": [
      "x = pd.Series([3, 1, 7, 99, 0], [\"a\", \"b\", \"c\", \"d\", \"e\"])\n",
      "print x[\"b\"]\n",
      "print x.loc[\"b\"]\n",
      "print x.iloc[1]\n",
      "print x.iloc[-2]"
     ],
     "language": "python",
     "metadata": {},
     "outputs": []
    },
    {
     "cell_type": "markdown",
     "metadata": {},
     "source": [
      "Another Pandas Series:"
     ]
    },
    {
     "cell_type": "code",
     "collapsed": false,
     "input": [
      "y = pd.Series([5, 13, 7], [\"b\", \"e\", \"f\"])\n",
      "print y"
     ],
     "language": "python",
     "metadata": {},
     "outputs": []
    },
    {
     "cell_type": "markdown",
     "metadata": {},
     "source": [
      "Two Series can be added (and subtracted, etc.):"
     ]
    },
    {
     "cell_type": "code",
     "collapsed": false,
     "input": [
      "print x + y"
     ],
     "language": "python",
     "metadata": {},
     "outputs": []
    },
    {
     "cell_type": "markdown",
     "metadata": {},
     "source": [
      "Here is a Numpy `ndarray`.  These arrays only provide position-based indexing."
     ]
    },
    {
     "cell_type": "code",
     "collapsed": false,
     "input": [
      "x = np.array([4, 2, 8, 5, 6, 1])\n",
      "print x[2]\n",
      "print x[-1]"
     ],
     "language": "python",
     "metadata": {},
     "outputs": []
    },
    {
     "cell_type": "markdown",
     "metadata": {},
     "source": [
      "Here is how we do position-based slicing for a Pandas `Series` (note that the end point of the range is not included in the slice):"
     ]
    },
    {
     "cell_type": "code",
     "collapsed": false,
     "input": [
      "x = pd.DataFrame([5, 2, 3, 1, 4], index=[\"a\", \"b\", \"c\", \"d\", \"e\"])\n",
      "print x.iloc[1:3]"
     ],
     "language": "python",
     "metadata": {},
     "outputs": []
    },
    {
     "cell_type": "markdown",
     "metadata": {},
     "source": [
      "Here is how we do label-based slicing for a Pandas Series.  Note that the end point of the range is included in the slice."
     ]
    },
    {
     "cell_type": "code",
     "collapsed": false,
     "input": [
      "print x.loc[\"b\":\"d\"]"
     ],
     "language": "python",
     "metadata": {},
     "outputs": []
    },
    {
     "cell_type": "markdown",
     "metadata": {},
     "source": [
      "### Two-dimensional data structures"
     ]
    },
    {
     "cell_type": "markdown",
     "metadata": {},
     "source": [
      "You can create a two-dimensional core Python \"list\" by nesting two one-dimensional lists:"
     ]
    },
    {
     "cell_type": "code",
     "collapsed": false,
     "input": [
      "x = [[1, 3], [5, 2]]\n",
      "print x"
     ],
     "language": "python",
     "metadata": {},
     "outputs": []
    },
    {
     "cell_type": "markdown",
     "metadata": {},
     "source": [
      "The two-dimensional data structure in Pandas is called a `DataFrame`. "
     ]
    },
    {
     "cell_type": "code",
     "collapsed": false,
     "input": [
      "x = pd.DataFrame([[1, 3], [5, 8], [2, 1]], columns=[\"a\", \"b\"], index=[\"row1\", \"row2\", \"row3\"])\n",
      "print x"
     ],
     "language": "python",
     "metadata": {},
     "outputs": []
    },
    {
     "cell_type": "markdown",
     "metadata": {},
     "source": [
      "Here is how we do label-based indexing of a `DataFrame` object."
     ]
    },
    {
     "cell_type": "code",
     "collapsed": false,
     "input": [
      "x.loc[\"row1\", \"b\"]"
     ],
     "language": "python",
     "metadata": {},
     "outputs": []
    },
    {
     "cell_type": "markdown",
     "metadata": {},
     "source": [
      "Here is how we do position-based indexing of a `DataFrame` object."
     ]
    },
    {
     "cell_type": "code",
     "collapsed": false,
     "input": [
      "x.iloc[0, 1]"
     ],
     "language": "python",
     "metadata": {},
     "outputs": []
    },
    {
     "cell_type": "markdown",
     "metadata": {},
     "source": [
      "Mixing label-based and position-based indexing is a bit trickier."
     ]
    },
    {
     "cell_type": "code",
     "collapsed": false,
     "input": [
      "x.loc[\"row1\", :].iloc[1]"
     ],
     "language": "python",
     "metadata": {},
     "outputs": []
    },
    {
     "cell_type": "markdown",
     "metadata": {},
     "source": [
      "Here is how we do label-based slicing with a `DataFrame`:"
     ]
    },
    {
     "cell_type": "code",
     "collapsed": false,
     "input": [
      "print x.loc[\"row1\", :], \"\\n\"\n",
      "print x.loc[:, \"b\"]"
     ],
     "language": "python",
     "metadata": {},
     "outputs": []
    },
    {
     "cell_type": "markdown",
     "metadata": {},
     "source": [
      "Note that these slices are `Series` objects."
     ]
    },
    {
     "cell_type": "code",
     "collapsed": false,
     "input": [
      "type(x.loc[\"row1\", :])"
     ],
     "language": "python",
     "metadata": {},
     "outputs": []
    },
    {
     "cell_type": "markdown",
     "metadata": {},
     "source": [
      "Here is how we do position-based slicing with a `DataFrame`:"
     ]
    },
    {
     "cell_type": "code",
     "collapsed": false,
     "input": [
      "print x.iloc[1, :], \"\\n\"\n",
      "print x.iloc[:, 0]"
     ],
     "language": "python",
     "metadata": {},
     "outputs": []
    },
    {
     "cell_type": "markdown",
     "metadata": {},
     "source": [
      "Here is how we do position-based slicing on two axes with a `DataFrame`:"
     ]
    },
    {
     "cell_type": "code",
     "collapsed": false,
     "input": [
      "print x.iloc[0:2, :], \"\\n\"\n",
      "print x.iloc[:, 0:2], \"\\n\"\n",
      "print x.iloc[[0,2], :], \"\\n\"\n",
      "print x.iloc[[True, False, True], :]"
     ],
     "language": "python",
     "metadata": {},
     "outputs": []
    },
    {
     "cell_type": "markdown",
     "metadata": {},
     "source": [
      "A Numpy `ndarray` can be two-dimensional:"
     ]
    },
    {
     "cell_type": "code",
     "collapsed": false,
     "input": [
      "x = np.array([[1, 4], [-5, 3], [3, 4]])\n",
      "print x"
     ],
     "language": "python",
     "metadata": {},
     "outputs": []
    },
    {
     "cell_type": "markdown",
     "metadata": {},
     "source": [
      "Here is how we do position-based indexing and slicing with a two-dimensional `ndarray`:"
     ]
    },
    {
     "cell_type": "code",
     "collapsed": false,
     "input": [
      "print x[0, 1], \"\\n\"\n",
      "print x[1, :], \"\\n\"\n",
      "print x[:, 1], \"\\n\"\n",
      "print x[[0, 2], :], \"\\n\"\n",
      "print x[:, [False, True]], \"\\n\"\n",
      "print x[-1, :]"
     ],
     "language": "python",
     "metadata": {},
     "outputs": []
    },
    {
     "cell_type": "markdown",
     "metadata": {},
     "source": [
      "### Data types\n",
      "\n",
      "Core Python lists and dictionaries are heterogeneous containers, meaning they can hold values of any combination of types:"
     ]
    },
    {
     "cell_type": "code",
     "collapsed": false,
     "input": [
      "x = [3, 9., \"apple\"]\n",
      "print type(x)\n",
      "print type(x[0])\n",
      "print type(x[1])\n",
      "print type(x[2])"
     ],
     "language": "python",
     "metadata": {},
     "outputs": []
    },
    {
     "cell_type": "markdown",
     "metadata": {},
     "source": [
      "Numpy `ndarray` and Pandas data structures are all homogeneous and hence have a single type (the type can be 'object' which simulates the behavior of a heterogeneous container, but we won't get into that here).  Here is how you specify and discover the data type for a numpy `ndarray`.  Pandas `Series` and `DataFrame` objects have exactly the same behavior. "
     ]
    },
    {
     "cell_type": "code",
     "collapsed": false,
     "input": [
      "w = np.array([3, 2, 1], dtype=np.int32)\n",
      "x = np.array([3.5, 2, 1], dtype=np.float64)\n",
      "y = np.array([5, 2, 3])\n",
      "z = np.array([5., 2, 3])\n",
      "print w.dtype\n",
      "print x.dtype\n",
      "print y.dtype\n",
      "print z.dtype"
     ],
     "language": "python",
     "metadata": {},
     "outputs": []
    },
    {
     "cell_type": "markdown",
     "metadata": {},
     "source": [
      "### Data structure types, conversions, and introspection"
     ]
    },
    {
     "cell_type": "markdown",
     "metadata": {},
     "source": [
      "Here we create an `ndarray` from a core Python list:"
     ]
    },
    {
     "cell_type": "code",
     "collapsed": false,
     "input": [
      "w =  [3, 5, 2]\n",
      "x = np.array(w)\n",
      "y = np.asarray(w) # Tries to avoid copying the data.\n",
      "z = np.array(w, dtype=np.float64)"
     ],
     "language": "python",
     "metadata": {},
     "outputs": []
    },
    {
     "cell_type": "markdown",
     "metadata": {},
     "source": [
      "Here we create a `DataFrame` from a `ndarray`, note the default indices:"
     ]
    },
    {
     "cell_type": "code",
     "collapsed": false,
     "input": [
      "x = np.array([[3, 2, 1, 6, 5], [3, 2, 7, 6, 6]])\n",
      "y = pd.DataFrame(x)\n",
      "print y"
     ],
     "language": "python",
     "metadata": {},
     "outputs": []
    },
    {
     "cell_type": "markdown",
     "metadata": {},
     "source": [
      "You can also use `np.asarray` to convert a `DataFrame` or `Series` to an `ndarray`."
     ]
    },
    {
     "cell_type": "code",
     "collapsed": false,
     "input": [
      "np.asarray(y)"
     ],
     "language": "python",
     "metadata": {},
     "outputs": []
    },
    {
     "cell_type": "markdown",
     "metadata": {},
     "source": [
      "The `dir` function produces all the methods that can be invoked on an object.  Methods whose names begin and end with two underscores are considered private."
     ]
    },
    {
     "cell_type": "code",
     "collapsed": false,
     "input": [
      "print dir(z)"
     ],
     "language": "python",
     "metadata": {},
     "outputs": []
    },
    {
     "cell_type": "markdown",
     "metadata": {},
     "source": [
      "Now we can get the docstring for a specific method:"
     ]
    },
    {
     "cell_type": "code",
     "collapsed": false,
     "input": [
      "help(z.trace)"
     ],
     "language": "python",
     "metadata": {},
     "outputs": []
    },
    {
     "cell_type": "markdown",
     "metadata": {},
     "source": [
      "### Reference behavior\n",
      "\n",
      "When you slice an array, you are often getting a reference to the array that you sliced from.  This means that if you change the slice, you also are changing the value in the array that it was sliced from.  To illustrate this, let's first create an array and get a slice from it."
     ]
    },
    {
     "cell_type": "code",
     "collapsed": false,
     "input": [
      "x = np.array([[1, 4], [3,2], [5,6]])\n",
      "y = x[1, :]\n",
      "print x, \"\\n\"\n",
      "print y       "
     ],
     "language": "python",
     "metadata": {},
     "outputs": []
    },
    {
     "cell_type": "markdown",
     "metadata": {},
     "source": [
      "Now we change a value in the slice."
     ]
    },
    {
     "cell_type": "code",
     "collapsed": false,
     "input": [
      "y[1] = 88\n",
      "print y, \"\\n\"\n",
      "print x"
     ],
     "language": "python",
     "metadata": {},
     "outputs": []
    },
    {
     "cell_type": "markdown",
     "metadata": {},
     "source": [
      "If you want to avoid this behavior, create a copy."
     ]
    },
    {
     "cell_type": "code",
     "collapsed": false,
     "input": [
      "y = x[1, :].copy()"
     ],
     "language": "python",
     "metadata": {},
     "outputs": []
    }
   ],
   "metadata": {}
  }
 ]
}